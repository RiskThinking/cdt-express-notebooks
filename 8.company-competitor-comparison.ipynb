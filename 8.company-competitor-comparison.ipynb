{
 "cells": [
  {
   "cell_type": "markdown",
   "metadata": {},
   "source": [
    "**Notebook Overview**\n",
    "\n",
    "This notebook uses the Riskthinking.AI Python SDK to automatically pull asset‐level climate metrics and fine‐grained hazard impacts for a given company and its competitor. In the Data Import & Preprocessing section, we:\n",
    "\n",
    "1. **Authenticate and connect to the API** using your `RISKTHINKING_API_KEY`.  \n",
    "2. **Fetch aggregated climate scores** and detailed hazard‐impact outputs for each asset, horizon, and scenario pathway.  \n",
    "3. **Merge these score tables with asset metadata**, then impute any missing building footprints based on type/horizon/pathway group averages.  \n",
    "4. **Compute type‐level statistics** (e.g., normalized footprint and count by asset category) to support later weighting.\n",
    "\n",
    "Once the data are preprocessed, the Analysis section illustrates how to:\n",
    "\n",
    "- **Visualize geographic distributions** of assets and their risk metrics by country.  \n",
    "- **Compare asset‐type breakdowns** between your company and a competitor.  \n",
    "- **Identify high‐materiality assets** (scored by metric × footprint) on a map.  \n",
    "- **Plot overall risk distributions** (boxplots and bar charts) to directly compare portfolio‐level risk.  \n",
    "- **Aggregate and compare country‐level risk** using a footprint‐weighted average of the chosen metric.  \n",
    "\n",
    "Update the “User Inputs” cell at the top with your company/competitor names, desired horizon, pathway, and metric names to rerun the full analysis end‐to‐end.\n"
   ]
  },
  {
   "cell_type": "markdown",
   "metadata": {},
   "source": [
    "# Data Import & Preprocessing"
   ]
  },
  {
   "cell_type": "markdown",
   "metadata": {},
   "source": [
    "## Initial Setup"
   ]
  },
  {
   "cell_type": "code",
   "execution_count": null,
   "metadata": {},
   "outputs": [
    {
     "name": "stdout",
     "output_type": "stream",
     "text": [
      "Note: you may need to restart the kernel to use updated packages.\n"
     ]
    }
   ],
   "source": [
    "# Install dependencies (run this once if needed)\n",
    "%pip install velo-sdk matplotlib polars python-dotenv pyarrow contextily geopandas seaborn plotly --quiet\n",
    "\n",
    "# Note: After installing new packages, you may need to restart the kernel before running the rest of the notebook."
   ]
  },
  {
   "cell_type": "code",
   "execution_count": 19,
   "metadata": {},
   "outputs": [],
   "source": [
    "# Imports (all top-level imports in one place)\n",
    "import os\n",
    "from typing import List\n",
    "\n",
    "import matplotlib.pyplot as plt\n",
    "import pandas as pd\n",
    "import polars as pl\n",
    "import seaborn as sns\n",
    "import plotly.express as px\n",
    "import contextily as ctx\n",
    "import geopandas as gpd\n",
    "\n",
    "# Velo (Riskthinking) SDK for API access\n",
    "from velo_sdk.api import APIClient\n",
    "\n",
    "# Dotenv for loading local .env file\n",
    "from dotenv import load_dotenv"
   ]
  },
  {
   "cell_type": "markdown",
   "metadata": {},
   "source": [
    "## User Inputs"
   ]
  },
  {
   "cell_type": "code",
   "execution_count": null,
   "metadata": {},
   "outputs": [
    {
     "name": "stderr",
     "output_type": "stream",
     "text": [
      "/var/folders/r_/rhqk89492nxcwmrd8336t0yw0000gn/T/ipykernel_92392/4139840804.py:29: MatplotlibDeprecationWarning:\n",
      "\n",
      "The seaborn styles shipped by Matplotlib are deprecated since 3.6, as they no longer correspond to the styles shipped by seaborn. However, they will remain available as 'seaborn-v0_8-<style>'. Alternatively, directly use the seaborn API instead.\n",
      "\n"
     ]
    }
   ],
   "source": [
    "# ────────────────────────────────────────────────────────────────────────────────\n",
    "# User-defined variables (change these as needed)\n",
    "# ────────────────────────────────────────────────────────────────────────────────\n",
    "\n",
    "# Enter company names. Ensure the competitor name is entered as accurately as possible.\n",
    "COMPANY_NAME = 'Procter & Gamble'\n",
    "COMPETITOR_NAME = 'Unilever PLC'\n",
    "\n",
    "\"\"\" \n",
    "Specify the following parameters for importing climate risk data:\n",
    "\n",
    "horizons: 2025 to 2100 in steps of 5. See Data Coverage section of documentation for full list of values.\n",
    "Multiple horizons may be selected in a list format, for example, [2025, 2040, 2050]. \n",
    "However, this notebook is designed to analyze a single horizon\n",
    "\n",
    "pathway: String specifying the scenario pathway. See Data Coverage section of documentation for full list \n",
    "of string values.\n",
    "\n",
    "metric: String specifying aggregated asset-level metric to import. See Data Coverage section of documentation \n",
    "for full list of string values. Multiple metrics may be selected in a list format containing a single \n",
    "comma-separated string, for example, [\"dcr_score,expected_impact\"]. However, this notebook is designed to \n",
    "analyze a single aggregate metric. Leave blank in the function call to import all available metrics.\n",
    "\"\"\"\n",
    "METRIC = ['expected_impact']\n",
    "HORIZON = [2030]\n",
    "PATHWAY = 'SV'\n",
    "\n",
    "# Plot styling\n",
    "plt.style.use('seaborn-whitegrid')\n",
    "sns.set_context('notebook', font_scale=1.1)"
   ]
  },
  {
   "cell_type": "markdown",
   "metadata": {},
   "source": [
    "## Define Functions"
   ]
  },
  {
   "cell_type": "code",
   "execution_count": null,
   "metadata": {},
   "outputs": [],
   "source": [
    "# ────────────────────────────────────────────────────────────────────────────────\n",
    "# Merge asset info dataframe with asset impact dataframe.\n",
    "# ────────────────────────────────────────────────────────────────────────────────\n",
    "def fetch_asset_scores(\n",
    "    company_id: str, horizons: List[int], pathway: str, metric: List[str]\n",
    ") -> pl.DataFrame:\n",
    "    \"\"\"\n",
    "    Fetch risk/impact scores for a company from the API.\n",
    "\n",
    "    Parameters\n",
    "    ----------\n",
    "    company_id : str\n",
    "        Company ID previously extracted using the \"search_companies\" method.\n",
    "    horizons : List[str]\n",
    "        A list of integer horizons (e.g., [2025, 2030, 2040]). In practice, this notebook\n",
    "        uses a single integer in the list.\n",
    "    pathway : str\n",
    "        Emissions pathway (e.g., 'SV').\n",
    "    metric: List[str]\n",
    "        asset-level aggregate metric (e.g., ['expected_impact']). In practice, this notebook\n",
    "        uses a single string in the list.\n",
    "\n",
    "    Returns\n",
    "    -------\n",
    "    pl.DataFrame\n",
    "        Polars DataFrame containing climate impact scores for all company assets.\n",
    "    \"\"\"\n",
    "\n",
    "    company_score_pl = pl.DataFrame()\n",
    "    for horizon in horizons:\n",
    "        iterator = client.companies.list_company_asset_climate_scores(\n",
    "            company_id=company_id, horizon=horizon, pathway=pathway, metric=metric\n",
    "        )\n",
    "\n",
    "        data = list(iterator)\n",
    "\n",
    "        if data:\n",
    "            pl_chunk = pl.DataFrame(data).with_columns(\n",
    "                [pl.lit(horizon).alias('horizon'), pl.lit(pathway).alias('pathway')]\n",
    "            )\n",
    "            company_score_pl = company_score_pl.vstack(pl_chunk)\n",
    "\n",
    "        return company_score_pl\n",
    "\n",
    "\n",
    "# ────────────────────────────────────────────────────────────────────────────\n",
    "# Fetch impact scores for each asset via the API, filtered by horizon/pathway.\n",
    "# ────────────────────────────────────────────────────────────────────────────\n",
    "def fetch_asset_impact_scores(\n",
    "    company_id: str, horizons: List[int], pathway: str\n",
    ") -> pl.DataFrame:\n",
    "    \"\"\"\n",
    "    Retrieve and flatten per-asset, per-hazard impact scores for a given company.\n",
    "\n",
    "    This function calls `client.companies.list_company_asset_impact_scores()` for each\n",
    "    horizon in `horizons`, adds the horizon/pathway columns, and then explodes the\n",
    "    'index_risks' struct into individual columns.\n",
    "\n",
    "    Parameters\n",
    "    ----------\n",
    "    company_id : str\n",
    "        The unique identifier for the company whose assets' impact scores are being fetched.\n",
    "    horizons : List[int]\n",
    "        A list of integer horizons (e.g., [2025, 2030, 2040]). In practice, this notebook\n",
    "        uses a single integer in the list.\n",
    "    pathway : str\n",
    "        The scenario pathway string (e.g., \"SV\").\n",
    "\n",
    "    Returns\n",
    "    -------\n",
    "    pl.DataFrame\n",
    "        A Polars DataFrame containing:\n",
    "        - asset_id (and other top-level fields returned by the API)\n",
    "        - horizon (int)\n",
    "        - pathway (str)\n",
    "        - All fields from each exploded 'index_risks' struct, one row per hazard index.\n",
    "    \"\"\"\n",
    "    impact_pl = pl.DataFrame()\n",
    "\n",
    "    for horizon in horizons:\n",
    "        iterator = client.companies.list_company_asset_impact_scores(\n",
    "            company_id=company_id,\n",
    "            horizon=horizon,\n",
    "            pathway=pathway,\n",
    "        )\n",
    "        data = list(iterator)\n",
    "        if data:\n",
    "            df_chunk = pl.DataFrame(data).with_columns(\n",
    "                [pl.lit(horizon).alias('horizon'), pl.lit(pathway).alias('pathway')]\n",
    "            )\n",
    "            impact_pl = impact_pl.vstack(df_chunk)\n",
    "\n",
    "    if impact_pl.is_empty():\n",
    "        return impact_pl\n",
    "\n",
    "    # Explode 'index_risks' and expand struct fields into separate columns\n",
    "    impact_pl = impact_pl.explode('index_risks').unnest('index_risks')\n",
    "\n",
    "    return impact_pl\n",
    "\n",
    "\n",
    "# ──────────────────────────────────────────────\n",
    "# Merges asset‐level scores with asset metadata.\n",
    "# ──────────────────────────────────────────────\n",
    "def merge_scores_assets(\n",
    "    scores_df: pl.DataFrame, assets_df: pl.DataFrame\n",
    ") -> pl.DataFrame:\n",
    "    \"\"\"\n",
    "    Join scores_df (impact scores) with assets_df (asset metadata) on asset_id → id.\n",
    "    Drops redundant columns (with suffix “_right”).\n",
    "\n",
    "    Parameters\n",
    "    ----------\n",
    "    scores_df : pl.DataFrame\n",
    "        A Polars DataFrame containing asset impact scores; must have column 'asset_id'.\n",
    "    assets_df : pl.DataFrame\n",
    "        A Polars DataFrame containing asset metadata; must have column 'id'.\n",
    "\n",
    "    Returns\n",
    "    -------\n",
    "    pl.DataFrame\n",
    "        Merged DataFrame with impact scores and asset metadata combined.\n",
    "    \"\"\"\n",
    "    return scores_df.join(\n",
    "        assets_df, left_on='asset_id', right_on='id', how='left'\n",
    "    ).drop(\n",
    "        [\n",
    "            'asset_type_right',\n",
    "            'city_right',\n",
    "            'state_right',\n",
    "            'country_right',\n",
    "            'address_right',\n",
    "        ]\n",
    "    )\n",
    "\n",
    "\n",
    "# ──────────────────────────────────────────────────────────────────────────────────────\n",
    "# Impute missing building footprints based on average within horizon/pathway/asset_type.\n",
    "# ──────────────────────────────────────────────────────────────────────────────────────\n",
    "def impute_building_footprint(df: pl.DataFrame) -> pl.DataFrame:\n",
    "    \"\"\"\n",
    "    Where 'building_footprint' is null or zero, impute with the average footprint for\n",
    "    that combination of horizon/pathway/asset_type.\n",
    "\n",
    "    Parameters\n",
    "    ----------\n",
    "    df : pl.DataFrame\n",
    "        Must contain columns ['horizon', 'pathway', 'asset_type', 'building_footprint'].\n",
    "\n",
    "    Returns\n",
    "    -------\n",
    "    pl.DataFrame\n",
    "        Updated DataFrame with missing footprints filled in, and original column replaced.\n",
    "    \"\"\"\n",
    "\n",
    "    grp_means = (\n",
    "        df.lazy()\n",
    "        .group_by(['horizon', 'pathway', 'asset_type'])\n",
    "        .agg(pl.col('building_footprint').mean().alias('building_footprint_mean'))\n",
    "        .collect()\n",
    "    )\n",
    "\n",
    "    df = df.join(grp_means, on=['horizon', 'pathway', 'asset_type'], how='left')\n",
    "\n",
    "    df = df.with_columns(\n",
    "        pl.when(pl.col('building_footprint') == 0)\n",
    "        .then(pl.col('building_footprint_mean'))\n",
    "        .otherwise(pl.col('building_footprint'))\n",
    "        .alias('building_footprint_2')\n",
    "    ).with_columns(pl.col('building_footprint_2').fill_null(700))\n",
    "\n",
    "    return df.drop('building_footprint_mean')\n",
    "\n",
    "\n",
    "# ────────────────────────────────────────────────────────────────────────────────\n",
    "# Compute country-level risk aggregates.\n",
    "# ────────────────────────────────────────────────────────────────────────────────\n",
    "def compute_country_risk(\n",
    "    df: pl.DataFrame,\n",
    "    company_label: str,\n",
    "    metric: List[str],\n",
    "    type_stats: pl.DataFrame,\n",
    "    alpha: float = 0.2,\n",
    ") -> pl.DataFrame:\n",
    "    \"\"\"\n",
    "    Computes country-level risk for a given DataFrame `df` and company label,\n",
    "    using the user-selected asset-level aggregate metric (metric[0]) weighted by\n",
    "    normalized asset footprint and asset materiality score.\n",
    "\n",
    "    The parameter alpha can be adjusted from 0 to 1 to specify relative weighting of\n",
    "    normalized asset footprint vs asset materiality score.\n",
    "\n",
    "    Footprint is normalized using a min-max scaling of all assets of the relevant\n",
    "    asset type in that country, belonging to both the companies specified by\n",
    "    company_name and competitor_name\n",
    "\n",
    "    Parameters\n",
    "    ----------\n",
    "    full_df : pl.DataFrame\n",
    "        Must contain columns ['country', 'asset_type', 'building_footprint', <METRIC>].\n",
    "    company_label : str\n",
    "        Label of the company to annotate the results.\n",
    "    metric : List[str]\n",
    "        Asset-level aggregate metric (e.g., ['expected_impact']). In practice, this notebook\n",
    "        uses a single string in the list.\n",
    "    type_stats: pl.DataFrame\n",
    "        Helper dataframe for grouping\n",
    "    alpha: float\n",
    "        Relative weighting of normalized asset footprint vs asset materiality score.\n",
    "\n",
    "    Returns\n",
    "    -------\n",
    "    pl.DataFrame\n",
    "        DataFrame grouped by country with columns:\n",
    "        - country\n",
    "        - total_building_footprint\n",
    "        - avg_metric (weighted by footprint)\n",
    "        - company (constant string)\n",
    "    \"\"\"\n",
    "    m = metric[0]  # e.g. \"expected_impact\"\n",
    "\n",
    "    lf = df.join(type_stats, on=['country', 'asset_type'], how='left').lazy()\n",
    "\n",
    "    # normalize within country & asset_type\n",
    "    lf = lf.with_columns(\n",
    "        [\n",
    "            pl.when(pl.col('ft_max_cty_type') != pl.col('ft_min_cty_type'))\n",
    "            .then(\n",
    "                (pl.col('building_footprint_2') - pl.col('ft_min_cty_type'))\n",
    "                / (pl.col('ft_max_cty_type') - pl.col('ft_min_cty_type'))\n",
    "            )\n",
    "            .otherwise(1.0)\n",
    "            .alias('norm_fp_cty_type'),\n",
    "            (pl.col('materiality_score') / 100).alias('norm_mat'),\n",
    "        ]\n",
    "    )\n",
    "\n",
    "    # composite size importance\n",
    "    lf = lf.with_columns(\n",
    "        (alpha * pl.col('norm_fp_cty_type') + (1 - alpha) * pl.col('norm_mat')).alias(\n",
    "            'size_imp'\n",
    "        )\n",
    "    )\n",
    "\n",
    "    # asset‐level risk from the chosen metric\n",
    "    lf = lf.with_columns((pl.col(m) * pl.col('size_imp')).alias('asset_risk'))\n",
    "\n",
    "    # aggregate to country\n",
    "    return (\n",
    "        lf.group_by('country')\n",
    "        .agg(\n",
    "            [\n",
    "                pl.sum('asset_risk').alias('country_risk'),\n",
    "                pl.count('asset_id').alias('n_assets'),\n",
    "            ]\n",
    "        )\n",
    "        .sort('country_risk', descending=True)\n",
    "        .with_columns(pl.lit(company_label).alias('company'))\n",
    "        .collect()\n",
    "    )\n"
   ]
  },
  {
   "cell_type": "markdown",
   "metadata": {},
   "source": [
    "## API Authentication & Client Setup"
   ]
  },
  {
   "cell_type": "code",
   "execution_count": null,
   "metadata": {},
   "outputs": [],
   "source": [
    "# ────────────────────────────────────────────────────────────────────────────────\n",
    "# Authenticate with Riskthinking API (using VeloClient or local .env)\n",
    "# ────────────────────────────────────────────────────────────────────────────────\n",
    "\n",
    "try:\n",
    "    # If running in Google Colab, fetch secret from userdata\n",
    "    from google.colab import auth, userdata  # type: ignore\n",
    "\n",
    "    auth.authenticate_user()\n",
    "    os.environ['RISKTHINKING_API_KEY'] = userdata.get('RISKTHINKING_API_KEY')\n",
    "except:\n",
    "    # Not in Colab: load from local .env\n",
    "    load_dotenv()  # looks for .env in working directory\n",
    "\n",
    "# Initialize API Client\n",
    "API_KEY = os.getenv('RISKTHINKING_API_KEY')\n",
    "if not API_KEY:\n",
    "    raise RuntimeError(\n",
    "        'RISKTHINKING_API_KEY is not set. Please set it in your .env or environment.'\n",
    "    )\n",
    "\n",
    "# Instantiate the VELO SDK client (it will look for $RISKTHINKING_API_KEY automatically)\n",
    "client = APIClient()"
   ]
  },
  {
   "cell_type": "markdown",
   "metadata": {},
   "source": [
    "## Specify Variables & Import Data"
   ]
  },
  {
   "cell_type": "code",
   "execution_count": null,
   "metadata": {},
   "outputs": [
    {
     "name": "stdout",
     "output_type": "stream",
     "text": [
      "id='c1f72107-9cbc-4ec6-8d40-24685b5526da' name='Procter & Gamble Company' slug='procter--gamble-company' headquarters_address='One Procter & Gamble Plaza , Cincinnati, 45202, United States' organization_id=None market_cap=369380000000 annual_revenue=80187000000 headquarters_country='US' sector='Consumer Discretionary' isin_codes=['BRPGCOBDR001', 'CA74276N1015', 'US7427181091', 'ARDEUT110335'] figi_codes=[] cik_code='' lei_code='' stock_tickers=['PGD', 'PGCL', '0NOF', 'PGP', 'PG *', 'PGCO34', 'PGm', 'PRG0', 'PRG', 'PG', '4PG'] is_grandparent=None data_generated_at=None data_generation_status=None created_at='2025-02-14T00:20:12.573287' updated_at='2025-05-23T18:38:24.305117'\n",
      "id='888e3c75-5b23-45f9-b46e-9c0a94b3087e' name='Unilever PLC' slug='unilever-plc' headquarters_address='Unilever House 100 Victoria Embankment, London, EC4Y 0DY, United Kingdom' organization_id=None market_cap=115262883914 annual_revenue=62543466944 headquarters_country='GB' sector='Consumer Discretionary' isin_codes=['US9047677045', 'BRULEVBDR002', 'GB00B10RZP78', 'ARDEUT112091', 'NL0000388619'] figi_codes=[] cik_code='' lei_code='' stock_tickers=['UNVA', 'UNLYF', 'UNI2', 'UNVB', 'UNA', 'ULVR', 'ULN', 'ULEV34', 'UL', 'ULVR N', 'ULD', '0NXN', 'UNAa', 'UL N', 'ULVRl', 'ULy', 'ULm'] is_grandparent=None data_generated_at=None data_generation_status=None created_at='2025-02-14T00:20:05.050037' updated_at='2025-05-23T18:38:13.047415'\n"
     ]
    }
   ],
   "source": [
    "# ────────────────────────────────────────────────────────────────────────────────\n",
    "# Search for company and competitor by name\n",
    "# ────────────────────────────────────────────────────────────────────────────────\n",
    "\n",
    "\n",
    "# Search a company/competitor name string and return the top result.\n",
    "# Ensure the company/competitor name is entered as accurately as possible.\n",
    "# Verify accuracy of result before proceeding\n",
    "\n",
    "company_name = 'Procter & Gamble'\n",
    "company = client.companies.search_companies(name=company_name, limit=1)[0]\n",
    "company_id = company.id\n",
    "\n",
    "competitor_name = 'Unilever PLC'\n",
    "competitor = client.companies.search_companies(name=competitor_name, limit=1)[0]\n",
    "competitor_id = competitor.id\n",
    "\n",
    "\n",
    "# Preview\n",
    "print(company)\n",
    "print(competitor)"
   ]
  },
  {
   "cell_type": "code",
   "execution_count": null,
   "metadata": {},
   "outputs": [
    {
     "name": "stdout",
     "output_type": "stream",
     "text": [
      "shape: (3, 16)\n",
      "┌─────────────┬──────┬────────────┬────────┬───┬────────────┬────────────┬────────────┬────────────┐\n",
      "│ id          ┆ name ┆ asset_type ┆ city   ┆ … ┆ ipcc_regio ┆ materialit ┆ created_at ┆ updated_at │\n",
      "│ ---         ┆ ---  ┆ ---        ┆ ---    ┆   ┆ n          ┆ y_score    ┆ ---        ┆ ---        │\n",
      "│ str         ┆ str  ┆ str        ┆ str    ┆   ┆ ---        ┆ ---        ┆ str        ┆ str        │\n",
      "│             ┆      ┆            ┆        ┆   ┆ str        ┆ f64        ┆            ┆            │\n",
      "╞═════════════╪══════╪════════════╪════════╪═══╪════════════╪════════════╪════════════╪════════════╡\n",
      "│ 00be1500-9f ┆      ┆ Profession ┆ Ibadan ┆ … ┆ Western-Af ┆ 5.0        ┆ 2025-02-14 ┆ 2025-05-23 │\n",
      "│ 6c-45c2-809 ┆      ┆ al         ┆ South  ┆   ┆ rica       ┆            ┆ T00:32:07. ┆ T18:42:12. │\n",
      "│ c-bae010…   ┆      ┆ Services   ┆ West   ┆   ┆            ┆            ┆ 718402     ┆ 529616     │\n",
      "│ 04f676bb-2f ┆      ┆ Management ┆ Boston ┆ … ┆ E.North-Am ┆ 5.0        ┆ 2025-02-14 ┆ 2025-05-23 │\n",
      "│ 68-4806-9d9 ┆      ┆ of         ┆        ┆   ┆ erica      ┆            ┆ T00:34:28. ┆ T18:40:08. │\n",
      "│ 6-9b3d06…   ┆      ┆ Companies  ┆        ┆   ┆            ┆            ┆ 479382     ┆ 310076     │\n",
      "│             ┆      ┆ and En…    ┆        ┆   ┆            ┆            ┆            ┆            │\n",
      "│ 065706af-0f ┆      ┆ Management ┆ Dubai  ┆ … ┆ Arabian-Pe ┆ 8.0        ┆ 2025-02-14 ┆ 2025-05-23 │\n",
      "│ fc-4b4e-b33 ┆      ┆ of         ┆        ┆   ┆ ninsula    ┆            ┆ T00:32:54. ┆ T18:39:24. │\n",
      "│ 3-17b4f9…   ┆      ┆ Companies  ┆        ┆   ┆            ┆            ┆ 308142     ┆ 324533     │\n",
      "│             ┆      ┆ and En…    ┆        ┆   ┆            ┆            ┆            ┆            │\n",
      "└─────────────┴──────┴────────────┴────────┴───┴────────────┴────────────┴────────────┴────────────┘\n",
      "shape: (3, 16)\n",
      "┌────────────┬──────┬────────────┬────────────┬───┬────────────┬───────────┬───────────┬───────────┐\n",
      "│ id         ┆ name ┆ asset_type ┆ city       ┆ … ┆ ipcc_regio ┆ materiali ┆ created_a ┆ updated_a │\n",
      "│ ---        ┆ ---  ┆ ---        ┆ ---        ┆   ┆ n          ┆ ty_score  ┆ t         ┆ t         │\n",
      "│ str        ┆ str  ┆ str        ┆ str        ┆   ┆ ---        ┆ ---       ┆ ---       ┆ ---       │\n",
      "│            ┆      ┆            ┆            ┆   ┆ str        ┆ f64       ┆ str       ┆ str       │\n",
      "╞════════════╪══════╪════════════╪════════════╪═══╪════════════╪═══════════╪═══════════╪═══════════╡\n",
      "│ 0068593a-6 ┆      ┆ Wholesale  ┆ Thorrur    ┆ … ┆ S.Asia     ┆ 14.0      ┆ 2025-02-1 ┆ 2025-05-2 │\n",
      "│ 2aa-40b4-9 ┆      ┆ Trade      ┆            ┆   ┆            ┆           ┆ 4T00:32:2 ┆ 3T18:41:1 │\n",
      "│ 0c9-81d63b ┆      ┆            ┆            ┆   ┆            ┆           ┆ 1.497227  ┆ 3.749259  │\n",
      "│ …          ┆      ┆            ┆            ┆   ┆            ┆           ┆           ┆           │\n",
      "│ 00c59abb-f ┆      ┆ Management ┆ Petaling   ┆ … ┆ S.E.Asia   ┆ 8.0       ┆ 2025-02-1 ┆ 2025-05-2 │\n",
      "│ dda-424c-9 ┆      ┆ of         ┆            ┆   ┆            ┆           ┆ 4T00:32:3 ┆ 3T18:42:0 │\n",
      "│ d31-9aaa5b ┆      ┆ Companies  ┆            ┆   ┆            ┆           ┆ 4.602712  ┆ 1.511242  │\n",
      "│ …          ┆      ┆ and En…    ┆            ┆   ┆            ┆           ┆           ┆           │\n",
      "│ 0146532e-8 ┆      ┆ Management ┆ Char       ┆ … ┆ S.Asia     ┆ 8.0       ┆ 2025-02-1 ┆ 2025-05-2 │\n",
      "│ 16f-4f25-8 ┆      ┆ of         ┆ Alexander  ┆   ┆            ┆           ┆ 4T00:34:3 ┆ 3T18:41:0 │\n",
      "│ 9c5-fdf3b2 ┆      ┆ Companies  ┆            ┆   ┆            ┆           ┆ 6.182793  ┆ 8.061461  │\n",
      "│ …          ┆      ┆ and En…    ┆            ┆   ┆            ┆           ┆           ┆           │\n",
      "└────────────┴──────┴────────────┴────────────┴───┴────────────┴───────────┴───────────┴───────────┘\n"
     ]
    }
   ],
   "source": [
    "# ────────────────────────────────────────────────────────────────────────────────\n",
    "# Import company and competitor asset data\n",
    "# ────────────────────────────────────────────────────────────────────────────────\n",
    "\n",
    "company_assets_pl = pl.DataFrame(\n",
    "    client.companies.list_company_assets(company_id=company_id)\n",
    ")\n",
    "competitor_assets_pl = pl.DataFrame(\n",
    "    client.companies.list_company_assets(company_id=competitor_id)\n",
    ")\n",
    "\n",
    "# Preview\n",
    "print(company_assets_pl.head(3))\n",
    "print(competitor_assets_pl.head(3))"
   ]
  },
  {
   "cell_type": "markdown",
   "metadata": {},
   "source": [
    "## Fetch Aggregate Climate Scores for Assets"
   ]
  },
  {
   "cell_type": "code",
   "execution_count": 8,
   "metadata": {},
   "outputs": [],
   "source": [
    "# ─────────────────────────────────────────────────────────────────────────────\n",
    "# Fetch climate scores for each asset via the API, filtered by horizon/pathway.\n",
    "# ─────────────────────────────────────────────────────────────────────────────\n",
    "\n",
    "# Fetch for company\n",
    "company_score_pl = fetch_asset_scores(company.id, HORIZON, PATHWAY, METRIC)\n",
    "\n",
    "# Fetch for competitor\n",
    "competitor_score_pl = fetch_asset_scores(competitor.id, HORIZON, PATHWAY, METRIC)"
   ]
  },
  {
   "cell_type": "markdown",
   "metadata": {},
   "source": [
    "## Fetch Impact Data"
   ]
  },
  {
   "cell_type": "code",
   "execution_count": null,
   "metadata": {},
   "outputs": [
    {
     "name": "stdout",
     "output_type": "stream",
     "text": [
      "shape: (3, 18)\n",
      "┌────────────┬────────────┬────────────┬───────────┬───┬───────────┬───────────┬─────────┬─────────┐\n",
      "│ asset_id   ┆ index_name ┆ index_impa ┆ index_imp ┆ … ┆ index_att ┆ index_att ┆ horizon ┆ pathway │\n",
      "│ ---        ┆ ---        ┆ ct_cvar_50 ┆ act_cvar_ ┆   ┆ ribution_ ┆ ribution_ ┆ ---     ┆ ---     │\n",
      "│ str        ┆ str        ┆ ---        ┆ 95        ┆   ┆ cvar_95   ┆ cvar_50   ┆ i32     ┆ str     │\n",
      "│            ┆            ┆ f64        ┆ ---       ┆   ┆ ---       ┆ ---       ┆         ┆         │\n",
      "│            ┆            ┆            ┆ f64       ┆   ┆ f64       ┆ f64       ┆         ┆         │\n",
      "╞════════════╪════════════╪════════════╪═══════════╪═══╪═══════════╪═══════════╪═════════╪═════════╡\n",
      "│ f6b053d8-8 ┆ wind_max_d ┆ 0.0        ┆ 0.0       ┆ … ┆ 0.0       ┆ 0.0       ┆ 2030    ┆ SV      │\n",
      "│ 846-4eca-8 ┆ aily_max   ┆            ┆           ┆   ┆           ┆           ┆         ┆         │\n",
      "│ c5b-efaea8 ┆            ┆            ┆           ┆   ┆           ┆           ┆         ┆         │\n",
      "│ …          ┆            ┆            ┆           ┆   ┆           ┆           ┆         ┆         │\n",
      "│ f6b053d8-8 ┆ hot_days   ┆ 0.000189   ┆ 0.000189  ┆ … ┆ 0.001424  ┆ 0.010253  ┆ 2030    ┆ SV      │\n",
      "│ 846-4eca-8 ┆            ┆            ┆           ┆   ┆           ┆           ┆         ┆         │\n",
      "│ c5b-efaea8 ┆            ┆            ┆           ┆   ┆           ┆           ┆         ┆         │\n",
      "│ …          ┆            ┆            ┆           ┆   ┆           ┆           ┆         ┆         │\n",
      "│ f6b053d8-8 ┆ frost_days ┆ 0.000178   ┆ 0.000178  ┆ … ┆ 0.001344  ┆ 0.009675  ┆ 2030    ┆ SV      │\n",
      "│ 846-4eca-8 ┆            ┆            ┆           ┆   ┆           ┆           ┆         ┆         │\n",
      "│ c5b-efaea8 ┆            ┆            ┆           ┆   ┆           ┆           ┆         ┆         │\n",
      "│ …          ┆            ┆            ┆           ┆   ┆           ┆           ┆         ┆         │\n",
      "└────────────┴────────────┴────────────┴───────────┴───┴───────────┴───────────┴─────────┴─────────┘\n",
      "shape: (3, 18)\n",
      "┌────────────┬────────────┬────────────┬───────────┬───┬───────────┬───────────┬─────────┬─────────┐\n",
      "│ asset_id   ┆ index_name ┆ index_impa ┆ index_imp ┆ … ┆ index_att ┆ index_att ┆ horizon ┆ pathway │\n",
      "│ ---        ┆ ---        ┆ ct_cvar_50 ┆ act_cvar_ ┆   ┆ ribution_ ┆ ribution_ ┆ ---     ┆ ---     │\n",
      "│ str        ┆ str        ┆ ---        ┆ 95        ┆   ┆ cvar_95   ┆ cvar_50   ┆ i32     ┆ str     │\n",
      "│            ┆            ┆ f64        ┆ ---       ┆   ┆ ---       ┆ ---       ┆         ┆         │\n",
      "│            ┆            ┆            ┆ f64       ┆   ┆ f64       ┆ f64       ┆         ┆         │\n",
      "╞════════════╪════════════╪════════════╪═══════════╪═══╪═══════════╪═══════════╪═════════╪═════════╡\n",
      "│ 0b50ae2d-e ┆ rflood_rp5 ┆ 0.144069   ┆ 0.146086  ┆ … ┆ 0.33529   ┆ 0.488535  ┆ 2030    ┆ SV      │\n",
      "│ c07-4b1a-b ┆ 0          ┆            ┆           ┆   ┆           ┆           ┆         ┆         │\n",
      "│ 1ca-01dd57 ┆            ┆            ┆           ┆   ┆           ┆           ┆         ┆         │\n",
      "│ …          ┆            ┆            ┆           ┆   ┆           ┆           ┆         ┆         │\n",
      "│ 0b50ae2d-e ┆ rx1day     ┆ 0.000385   ┆ 0.000385  ┆ … ┆ 0.000883  ┆ 0.001305  ┆ 2030    ┆ SV      │\n",
      "│ c07-4b1a-b ┆            ┆            ┆           ┆   ┆           ┆           ┆         ┆         │\n",
      "│ 1ca-01dd57 ┆            ┆            ┆           ┆   ┆           ┆           ┆         ┆         │\n",
      "│ …          ┆            ┆            ┆           ┆   ┆           ┆           ┆         ┆         │\n",
      "│ 0b50ae2d-e ┆ wind_max_d ┆ 0.0        ┆ 0.0       ┆ … ┆ 0.0       ┆ 0.0       ┆ 2030    ┆ SV      │\n",
      "│ c07-4b1a-b ┆ aily_max   ┆            ┆           ┆   ┆           ┆           ┆         ┆         │\n",
      "│ 1ca-01dd57 ┆            ┆            ┆           ┆   ┆           ┆           ┆         ┆         │\n",
      "│ …          ┆            ┆            ┆           ┆   ┆           ┆           ┆         ┆         │\n",
      "└────────────┴────────────┴────────────┴───────────┴───┴───────────┴───────────┴─────────┴─────────┘\n"
     ]
    }
   ],
   "source": [
    "# ────────────────────────────────────────────────────────────────────────────\n",
    "# Fetch impact scores for each asset via the API, filtered by horizon/pathway.\n",
    "# ────────────────────────────────────────────────────────────────────────────\n",
    "\n",
    "company_impact_pl = fetch_asset_impact_scores(\n",
    "    company_id=company.id, horizons=HORIZON, pathway=PATHWAY\n",
    ")\n",
    "\n",
    "\n",
    "competitor_impact_pl = fetch_asset_impact_scores(\n",
    "    company_id=competitor.id, horizons=HORIZON, pathway=PATHWAY\n",
    ")\n",
    "\n",
    "# Preview\n",
    "print(company_impact_pl.head(3))\n",
    "print(competitor_impact_pl.head(3))"
   ]
  },
  {
   "cell_type": "markdown",
   "metadata": {},
   "source": [
    "## Merge, Impute footprints, and Compute Country‐Level Risks"
   ]
  },
  {
   "cell_type": "code",
   "execution_count": null,
   "metadata": {},
   "outputs": [
    {
     "name": "stdout",
     "output_type": "stream",
     "text": [
      "Company country-level risk (top 5 rows):\n",
      "shape: (5, 4)\n",
      "┌─────────┬──────────────┬──────────┬──────────────────┐\n",
      "│ country ┆ country_risk ┆ n_assets ┆ company          │\n",
      "│ ---     ┆ ---          ┆ ---      ┆ ---              │\n",
      "│ str     ┆ f64          ┆ u32      ┆ str              │\n",
      "╞═════════╪══════════════╪══════════╪══════════════════╡\n",
      "│ USA     ┆ 2.599128     ┆ 37       ┆ Procter & Gamble │\n",
      "│ IND     ┆ 0.939964     ┆ 14       ┆ Procter & Gamble │\n",
      "│ CHN     ┆ 0.464025     ┆ 3        ┆ Procter & Gamble │\n",
      "│ THA     ┆ 0.10811      ┆ 1        ┆ Procter & Gamble │\n",
      "│ BRA     ┆ 0.092241     ┆ 3        ┆ Procter & Gamble │\n",
      "└─────────┴──────────────┴──────────┴──────────────────┘\n",
      "\n",
      "Competitor country-level risk (top 5 rows):\n",
      "shape: (5, 4)\n",
      "┌─────────┬──────────────┬──────────┬──────────────┐\n",
      "│ country ┆ country_risk ┆ n_assets ┆ company      │\n",
      "│ ---     ┆ ---          ┆ ---      ┆ ---          │\n",
      "│ str     ┆ f64          ┆ u32      ┆ str          │\n",
      "╞═════════╪══════════════╪══════════╪══════════════╡\n",
      "│ IND     ┆ 3.583764     ┆ 64       ┆ Unilever PLC │\n",
      "│ BGD     ┆ 1.093083     ┆ 10       ┆ Unilever PLC │\n",
      "│ PAK     ┆ 0.761716     ┆ 8        ┆ Unilever PLC │\n",
      "│ IDN     ┆ 0.460891     ┆ 23       ┆ Unilever PLC │\n",
      "│ USA     ┆ 0.405875     ┆ 21       ┆ Unilever PLC │\n",
      "└─────────┴──────────────┴──────────┴──────────────┘\n"
     ]
    }
   ],
   "source": [
    "# ────────────────────────────────────────────────────────────────────────────────\n",
    "# This code block:\n",
    "# 1. Merges asset‐level scores with asset metadata for both company and competitor.\n",
    "# 2. Imputes missing or zero footprints.\n",
    "# 3. Tags each row with the respective company name.\n",
    "# 4. Computes type‐level statistics (type_stats) across all assets.\n",
    "# 5. Calls compute_country_risk(...) for both company and competitor using:\n",
    "#    - full DataFrame per entity\n",
    "#    - chosen METRIC (a list of one string)\n",
    "#    - shared type_stats DataFrame\n",
    "#    - alpha for weighting between footprint and materiality\n",
    "# 6. Prints the top rows of each country‐level risk result.\n",
    "# ────────────────────────────────────────────────────────────────────────────────\n",
    "\n",
    "# Merge asset scores with asset metadata\n",
    "company_full_pl = merge_scores_assets(company_score_pl, company_assets_pl)\n",
    "competitor_full_pl = merge_scores_assets(competitor_score_pl, competitor_assets_pl)\n",
    "\n",
    "# Impute missing or zero building footprints\n",
    "company_full_pl = impute_building_footprint(company_full_pl)\n",
    "competitor_full_pl = impute_building_footprint(competitor_full_pl)\n",
    "\n",
    "# Annotate each DataFrame with the company/competitor label\n",
    "company_full_pl = company_full_pl.with_columns(pl.lit(company_name).alias('company'))\n",
    "competitor_full_pl = competitor_full_pl.with_columns(\n",
    "    pl.lit(competitor_name).alias('company')\n",
    ")\n",
    "\n",
    "# Compute type‐level statistics across combined assets of both entities\n",
    "#    type_stats includes, for each asset_type:\n",
    "#      - total_footprint_by_type: sum of building_footprint across that type\n",
    "#      - count_by_type: number of assets of that type\n",
    "#      - normalized_fp: total_footprint_by_type divided by overall total footprint\n",
    "#      - normalized_count: count_by_type divided by overall total asset count\n",
    "combined_full_pl = pl.concat([company_full_pl, competitor_full_pl])\n",
    "type_stats = (\n",
    "    combined_full_pl.lazy()\n",
    "    .group_by(['country', 'asset_type'])\n",
    "    .agg(\n",
    "        [\n",
    "            pl.col('building_footprint_2').min().alias('ft_min_cty_type'),\n",
    "            pl.col('building_footprint_2').max().alias('ft_max_cty_type'),\n",
    "        ]\n",
    "    )\n",
    "    .collect()\n",
    ")\n",
    "\n",
    "# Compute country‐level risk for the company\n",
    "company_country_risk = compute_country_risk(\n",
    "    company_full_pl, company_name, METRIC, type_stats, alpha=0.2\n",
    ")\n",
    "competitor_country_risk = compute_country_risk(\n",
    "    competitor_full_pl, competitor_name, METRIC, type_stats, alpha=0.2\n",
    ")\n",
    "\n",
    "print('Company country-level risk (top 5 rows):')\n",
    "print(company_country_risk.head())\n",
    "\n",
    "print('\\nCompetitor country-level risk (top 5 rows):')\n",
    "print(competitor_country_risk.head())\n"
   ]
  },
  {
   "cell_type": "code",
   "execution_count": null,
   "metadata": {},
   "outputs": [],
   "source": [
    "# ─────────────────────────────────────\n",
    "# Prepare combined counts for filtering\n",
    "# ─────────────────────────────────────\n",
    "\n",
    "# Combined asset counts by country and asset_type\n",
    "country_counts_combined = (\n",
    "    pd.concat(\n",
    "        [\n",
    "            company_full_pl.to_pandas()[['country', 'asset_id']],\n",
    "            competitor_full_pl.to_pandas()[['country', 'asset_id']],\n",
    "        ]\n",
    "    )\n",
    "    .groupby('country')['asset_id']\n",
    "    .nunique()\n",
    "    .nlargest(40)\n",
    "    .index.tolist()\n",
    ")\n",
    "asset_counts_combined = (\n",
    "    pd.concat(\n",
    "        [\n",
    "            company_full_pl.to_pandas()[['asset_type', 'asset_id']],\n",
    "            competitor_full_pl.to_pandas()[['asset_type', 'asset_id']],\n",
    "        ]\n",
    "    )\n",
    "    .groupby('asset_type')['asset_id']\n",
    "    .nunique()\n",
    "    .nlargest(8)\n",
    "    .index.tolist()\n",
    ")\n",
    "# Combined risk by country\n",
    "risk_df_combined = pd.concat(\n",
    "    [\n",
    "        company_country_risk.to_pandas()[['country', 'country_risk']],\n",
    "        competitor_country_risk.to_pandas()[['country', 'country_risk']],\n",
    "    ]\n",
    ")\n",
    "risk_top25 = (\n",
    "    risk_df_combined.groupby('country')['country_risk']\n",
    "    .sum()\n",
    "    .nlargest(25)\n",
    "    .index.tolist()\n",
    ")"
   ]
  },
  {
   "cell_type": "markdown",
   "metadata": {},
   "source": [
    "# Analysis"
   ]
  },
  {
   "cell_type": "markdown",
   "metadata": {},
   "source": [
    "## 1. Geographic Distribution of assets by country"
   ]
  },
  {
   "cell_type": "code",
   "execution_count": null,
   "metadata": {},
   "outputs": [],
   "source": [
    "color_map = {\n",
    "    company_name: '#7C6992',  # for the primary company\n",
    "    competitor_name: '#ED8B00',  # for the competitor\n",
    "}"
   ]
  },
  {
   "cell_type": "code",
   "execution_count": null,
   "metadata": {},
   "outputs": [
    {
     "data": {
      "image/png": "[encoded data removed]",
      "text/plain": [
       "<Figure size 1200x600 with 1 Axes>"
      ]
     },
     "metadata": {},
     "output_type": "display_data"
    }
   ],
   "source": [
    "# ─────────────────────────────────────────────────────────────────────────────────\n",
    "# Plot the number of assets per country for each company\n",
    "# Limited to top 40 countries by total combined number of assets for both companies\n",
    "# ─────────────────────────────────────────────────────────────────────────────────\n",
    "\n",
    "plt.figure(figsize=(12, 6))\n",
    "data_cc = []\n",
    "for df, name in [\n",
    "    (company_full_pl, company_name),\n",
    "    (competitor_full_pl, competitor_name),\n",
    "]:\n",
    "    df_pd = df.to_pandas()\n",
    "    df_pd = df_pd[df_pd['country'].isin(country_counts_combined)]\n",
    "    cc = df_pd.groupby('country')['asset_id'].nunique().reset_index(name='count')\n",
    "    cc['company'] = name\n",
    "    data_cc.append(cc)\n",
    "cc_df = pd.concat(data_cc, ignore_index=True)\n",
    "sns.barplot(data=cc_df, x='country', y='count', hue='company', palette=color_map)\n",
    "plt.xticks(rotation=90)\n",
    "plt.title('Top 40 Countries by Asset Count (Combined)')\n",
    "plt.xlabel('Country')\n",
    "plt.ylabel('Number of Assets')\n",
    "plt.tight_layout()\n",
    "plt.show()\n"
   ]
  },
  {
   "cell_type": "markdown",
   "metadata": {},
   "source": [
    "## 2. Asset type distribution"
   ]
  },
  {
   "cell_type": "code",
   "execution_count": null,
   "metadata": {},
   "outputs": [
    {
     "data": {
      "image/png": "[encoded data removed]",
      "text/plain": [
       "<Figure size 1200x600 with 1 Axes>"
      ]
     },
     "metadata": {},
     "output_type": "display_data"
    }
   ],
   "source": [
    "# ──────────────────────────────────────────────────────────────────────────────────\n",
    "# Plot the number of assets per asset type for each company\n",
    "# Limited to top 8 asset types by total combined number of assets for both companies\n",
    "# ──────────────────────────────────────────────────────────────────────────────────\n",
    "\n",
    "plt.figure(figsize=(12, 6))\n",
    "data_at = []\n",
    "for df, name in [\n",
    "    (company_full_pl, company_name),\n",
    "    (competitor_full_pl, competitor_name),\n",
    "]:\n",
    "    df_pd = df.to_pandas()\n",
    "    df_pd = df_pd[df_pd['asset_type'].isin(asset_counts_combined)]\n",
    "    at = df_pd.groupby('asset_type')['asset_id'].nunique().reset_index(name='count')\n",
    "    at['company'] = name\n",
    "    data_at.append(at)\n",
    "at_df = pd.concat(data_at, ignore_index=True)\n",
    "sns.barplot(data=at_df, x='asset_type', y='count', hue='company', palette=color_map)\n",
    "plt.xticks(rotation=45)\n",
    "plt.title('Top 8 Asset Types by Asset Count (Combined)')\n",
    "plt.xlabel('Asset Type')\n",
    "plt.ylabel('Number of Assets')\n",
    "plt.tight_layout()\n",
    "plt.show()"
   ]
  },
  {
   "cell_type": "markdown",
   "metadata": {},
   "source": [
    "## 3. High‐materiality asset locations with asset type"
   ]
  },
  {
   "cell_type": "code",
   "execution_count": null,
   "metadata": {},
   "outputs": [
    {
     "data": {
      "application/vnd.plotly.v1+json": {
       "config": {
        "plotlyServerURL": "https://plot.ly"
       },
       "data": [
        {
         "customdata": [
          [
           "Chemical Manufacturing",
           "Procter & Gamble",
           100
          ],
          [
           "Chemical Manufacturing",
           "Procter & Gamble",
           100
          ],
          [
           "Chemical Manufacturing",
           "Procter & Gamble",
           100
          ],
          [
           "Chemical Manufacturing",
           "Procter & Gamble",
           100
          ],
          [
           "Chemical Manufacturing",
           "Procter & Gamble",
           100
          ],
          [
           "Chemical Manufacturing",
           "Procter & Gamble",
           100
          ],
          [
           "Chemical Manufacturing",
           "Procter & Gamble",
           100
          ],
          [
           "Chemical Manufacturing",
           "Procter & Gamble",
           100
          ],
          [
           "Chemical Manufacturing",
           "Procter & Gamble",
           100
          ],
          [
           "Chemical Manufacturing",
           "Procter & Gamble",
           100
          ],
          [
           "Chemical Manufacturing",
           "Procter & Gamble",
           100
          ],
          [
           "Chemical Manufacturing",
           "Procter & Gamble",
           100
          ],
          [
           "Chemical Manufacturing",
           "Procter & Gamble",
           100
          ],
          [
           "Chemical Manufacturing",
           "Procter & Gamble",
           100
          ],
          [
           "Chemical Manufacturing",
           "Procter & Gamble",
           100
          ],
          [
           "Chemical Manufacturing",
           "Procter & Gamble",
           100
          ],
          [
           "Chemical Manufacturing",
           "Procter & Gamble",
           100
          ],
          [
           "Chemical Manufacturing",
           "Procter & Gamble",
           100
          ],
          [
           "Chemical Manufacturing",
           "Procter & Gamble",
           100
          ],
          [
           "Chemical Manufacturing",
           "Procter & Gamble",
           100
          ],
          [
           "Chemical Manufacturing",
           "Procter & Gamble",
           100
          ],
          [
           "Chemical Manufacturing",
           "Procter & Gamble",
           100
          ],
          [
           "Chemical Manufacturing",
           "Procter & Gamble",
           100
          ],
          [
           "Chemical Manufacturing",
           "Procter & Gamble",
           100
          ],
          [
           "Chemical Manufacturing",
           "Procter & Gamble",
           100
          ],
          [
           "Chemical Manufacturing",
           "Procter & Gamble",
           100
          ],
          [
           "Chemical Manufacturing",
           "Procter & Gamble",
           100
          ]
         ],
         "geo": "geo",
         "hovertemplate": "Asset Type: %{customdata[0]}<br>Company: %{customdata[1]}<br>Materiality Score: %{customdata[2]:.0f}<extra></extra>",
         "lat": {
          "bdata": "bGv6ovMoJECJiFHGru5IQIRc8/RbO0pA307HCE0RN0CtegrKfslEQL1RK0zfTUVAxHjNqzqLQ0D/1T54SENDQBIoB1hQlkNAj49xIH8JQkDV52or9tFEQKkQNAtZvkNAgQEpVrKWPkAaVkwAWYc+QIpXWdsU0kRAwbPz7Ki9Q0B+BcR/FZNDQKGJC5tcdUVA1UytrY4WQkABvXDnwhpBQM27oHTYtkBABey0f6+6QUB98mbDUC0rQDuJrUWwX0RAlQGxtnMLCcDP+1ry0/E+QDPMv0zKykRA",
          "dtype": "f8"
         },
         "legendgroup": "Chemical Manufacturing",
         "lon": {
          "bdata": "WJcJdccUU0DySBf2D0UhQHZR9MDH0CpAgXPr2oNhXEB0QX3LnAJTwLYVVoXhylHAde+XBcmpV8D9116wwFlewAdbkT3nH1XA5CVJIVr6U8D3sYLfBuBWwE3jzdCuKVPAiWO4lTmWXEDOQBtvYZZcQJRSK6eY41bA3q8CfDcOU8C0C7xJQuNSwEu8TcmDZFXAxAIEGDvuU8C3s688yMhdwNoEc0+yCFzApoS7DjDHU8DGo1TCEzxZQPi4gOEmAlXAxo4hW/H6TcCUIugeyDRTQFgp80UxLwJA",
          "dtype": "f8"
         },
         "marker": {
          "color": "#636efa",
          "size": {
           "bdata": "AAAAAAAAWUAAAAAAAABZQAAAAAAAAFlAAAAAAAAAWUAAAAAAAABZQAAAAAAAAFlAAAAAAAAAWUAAAAAAAABZQAAAAAAAAFlAAAAAAAAAWUAAAAAAAABZQAAAAAAAAFlAAAAAAAAAWUAAAAAAAABZQAAAAAAAAFlAAAAAAAAAWUAAAAAAAABZQAAAAAAAAFlAAAAAAAAAWUAAAAAAAABZQAAAAAAAAFlAAAAAAAAAWUAAAAAAAABZQAAAAAAAAFlAAAAAAAAAWUAAAAAAAABZQAAAAAAAAFlA",
           "dtype": "f8"
          },
          "sizemode": "area",
          "sizeref": 1,
          "symbol": "circle"
         },
         "mode": "markers",
         "name": "Chemical Manufacturing",
         "showlegend": true,
         "type": "scattergeo"
        },
        {
         "customdata": [
          [
           "Chemical Manufacturing",
           "Unilever PLC",
           100
          ],
          [
           "Chemical Manufacturing",
           "Unilever PLC",
           100
          ],
          [
           "Chemical Manufacturing",
           "Unilever PLC",
           100
          ],
          [
           "Chemical Manufacturing",
           "Unilever PLC",
           100
          ],
          [
           "Chemical Manufacturing",
           "Unilever PLC",
           100
          ],
          [
           "Chemical Manufacturing",
           "Unilever PLC",
           100
          ],
          [
           "Chemical Manufacturing",
           "Unilever PLC",
           100
          ],
          [
           "Chemical Manufacturing",
           "Unilever PLC",
           100
          ],
          [
           "Chemical Manufacturing",
           "Unilever PLC",
           100
          ]
         ],
         "geo": "geo2",
         "hovertemplate": "Asset Type: %{customdata[0]}<br>Company: %{customdata[1]}<br>Materiality Score: %{customdata[2]:.0f}<extra></extra>",
         "lat": {
          "bdata": "81Zdh2rqMkCSFEfU+utHQEPhWLz9xkFAsA3LVeLjS0Al5llJK2pMQPSM2II5/EJAvOmWHeJJNEBSGiCHd3lGQB0XemkvmThA",
          "dtype": "f8"
         },
         "legendgroup": "Chemical Manufacturing",
         "lon": {
          "bdata": "dKGoIkvLWMAeVhOfliA2QCHcruHzbGFAWPCRg8jXQkD/59Wl61ROQINeyZ+5UUBATQRg8nVBUkCgDnVpDf85QEPSXchZblJA",
          "dtype": "f8"
         },
         "marker": {
          "color": "#636efa",
          "size": {
           "bdata": "AAAAAAAAWUAAAAAAAABZQAAAAAAAAFlAAAAAAAAAWUAAAAAAAABZQAAAAAAAAFlAAAAAAAAAWUAAAAAAAABZQAAAAAAAAFlA",
           "dtype": "f8"
          },
          "sizemode": "area",
          "sizeref": 1,
          "symbol": "circle"
         },
         "mode": "markers",
         "name": "Chemical Manufacturing",
         "showlegend": false,
         "type": "scattergeo"
        },
        {
         "customdata": [
          [
           "Health Care and Social Assistance",
           "Procter & Gamble",
           100
          ]
         ],
         "geo": "geo",
         "hovertemplate": "Asset Type: %{customdata[0]}<br>Company: %{customdata[1]}<br>Materiality Score: %{customdata[2]:.0f}<extra></extra>",
         "lat": {
          "bdata": "mdNlMbFxREA=",
          "dtype": "f8"
         },
         "legendgroup": "Health Care and Social Assistance",
         "lon": {
          "bdata": "vALRkzJ/UsA=",
          "dtype": "f8"
         },
         "marker": {
          "color": "#EF553B",
          "size": {
           "bdata": "AAAAAAAAWUA=",
           "dtype": "f8"
          },
          "sizemode": "area",
          "sizeref": 1,
          "symbol": "circle"
         },
         "mode": "markers",
         "name": "Health Care and Social Assistance",
         "showlegend": true,
         "type": "scattergeo"
        },
        {
         "customdata": [
          [
           "Food Manufacturing",
           "Unilever PLC",
           100
          ],
          [
           "Food Manufacturing",
           "Unilever PLC",
           100
          ]
         ],
         "geo": "geo2",
         "hovertemplate": "Asset Type: %{customdata[0]}<br>Company: %{customdata[1]}<br>Materiality Score: %{customdata[2]:.0f}<extra></extra>",
         "lat": {
          "bdata": "AFKbOLlrPEBtZA3NK+E4QA==",
          "dtype": "f8"
         },
         "legendgroup": "Food Manufacturing",
         "lon": {
          "bdata": "NM7wsBqTUUD4OZkTD75QQA==",
          "dtype": "f8"
         },
         "marker": {
          "color": "#00cc96",
          "size": {
           "bdata": "AAAAAAAAWUAAAAAAAABZQA==",
           "dtype": "f8"
          },
          "sizemode": "area",
          "sizeref": 1,
          "symbol": "circle"
         },
         "mode": "markers",
         "name": "Food Manufacturing",
         "showlegend": true,
         "type": "scattergeo"
        },
        {
         "customdata": [
          [
           "Financial Services",
           "Unilever PLC",
           100
          ]
         ],
         "geo": "geo2",
         "hovertemplate": "Asset Type: %{customdata[0]}<br>Company: %{customdata[1]}<br>Materiality Score: %{customdata[2]:.0f}<extra></extra>",
         "lat": {
          "bdata": "63ntiPluSEA=",
          "dtype": "f8"
         },
         "legendgroup": "Financial Services",
         "lon": {
          "bdata": "kHEgf8R6AkA=",
          "dtype": "f8"
         },
         "marker": {
          "color": "#ab63fa",
          "size": {
           "bdata": "AAAAAAAAWUA=",
           "dtype": "f8"
          },
          "sizemode": "area",
          "sizeref": 1,
          "symbol": "circle"
         },
         "mode": "markers",
         "name": "Financial Services",
         "showlegend": true,
         "type": "scattergeo"
        },
        {
         "customdata": [
          [
           "Bank Branches and Insurance Brokerages",
           "Unilever PLC",
           82
          ]
         ],
         "geo": "geo2",
         "hovertemplate": "Asset Type: %{customdata[0]}<br>Company: %{customdata[1]}<br>Materiality Score: %{customdata[2]:.0f}<extra></extra>",
         "lat": {
          "bdata": "pcIz/AJfQ0A=",
          "dtype": "f8"
         },
         "legendgroup": "Bank Branches and Insurance Brokerages",
         "lon": {
          "bdata": "QaoXMo0EW8A=",
          "dtype": "f8"
         },
         "marker": {
          "color": "#FFA15A",
          "size": {
           "bdata": "AAAAAACAVEA=",
           "dtype": "f8"
          },
          "sizemode": "area",
          "sizeref": 1,
          "symbol": "circle"
         },
         "mode": "markers",
         "name": "Bank Branches and Insurance Brokerages",
         "showlegend": true,
         "type": "scattergeo"
        }
       ],
       "layout": {
        "annotations": [
         {
          "font": {},
          "showarrow": false,
          "text": "company=Procter & Gamble",
          "x": 0.245,
          "xanchor": "center",
          "xref": "paper",
          "y": 1,
          "yanchor": "bottom",
          "yref": "paper"
         },
         {
          "font": {},
          "showarrow": false,
          "text": "company=Unilever PLC",
          "x": 0.755,
          "xanchor": "center",
          "xref": "paper",
          "y": 1,
          "yanchor": "bottom",
          "yref": "paper"
         }
        ],
        "geo": {
         "center": {},
         "countrycolor": "White",
         "domain": {
          "x": [
           0,
           0.49
          ],
          "y": [
           0,
           1
          ]
         },
         "landcolor": "LightGray",
         "oceancolor": "LightBlue",
         "projection": {
          "type": "natural earth"
         },
         "showcountries": true,
         "showland": true,
         "showocean": true
        },
        "geo2": {
         "center": {},
         "countrycolor": "White",
         "domain": {
          "x": [
           0.51,
           1
          ],
          "y": [
           0,
           1
          ]
         },
         "landcolor": "LightGray",
         "oceancolor": "LightBlue",
         "projection": {
          "type": "natural earth"
         },
         "showcountries": true,
         "showland": true,
         "showocean": true
        },
        "legend": {
         "itemsizing": "constant",
         "title": {
          "text": "asset_type"
         },
         "tracegroupgap": 0
        },
        "margin": {
         "b": 0,
         "l": 20,
         "r": 0,
         "t": 50
        },
        "template": {
         "data": {
          "bar": [
           {
            "error_x": {
             "color": "#2a3f5f"
            },
            "error_y": {
             "color": "#2a3f5f"
            },
            "marker": {
             "line": {
              "color": "#E5ECF6",
              "width": 0.5
             },
             "pattern": {
              "fillmode": "overlay",
              "size": 10,
              "solidity": 0.2
             }
            },
            "type": "bar"
           }
          ],
          "barpolar": [
           {
            "marker": {
             "line": {
              "color": "#E5ECF6",
              "width": 0.5
             },
             "pattern": {
              "fillmode": "overlay",
              "size": 10,
              "solidity": 0.2
             }
            },
            "type": "barpolar"
           }
          ],
          "carpet": [
           {
            "aaxis": {
             "endlinecolor": "#2a3f5f",
             "gridcolor": "white",
             "linecolor": "white",
             "minorgridcolor": "white",
             "startlinecolor": "#2a3f5f"
            },
            "baxis": {
             "endlinecolor": "#2a3f5f",
             "gridcolor": "white",
             "linecolor": "white",
             "minorgridcolor": "white",
             "startlinecolor": "#2a3f5f"
            },
            "type": "carpet"
           }
          ],
          "choropleth": [
           {
            "colorbar": {
             "outlinewidth": 0,
             "ticks": ""
            },
            "type": "choropleth"
           }
          ],
          "contour": [
           {
            "colorbar": {
             "outlinewidth": 0,
             "ticks": ""
            },
            "colorscale": [
             [
              0,
              "#0d0887"
             ],
             [
              0.1111111111111111,
              "#46039f"
             ],
             [
              0.2222222222222222,
              "#7201a8"
             ],
             [
              0.3333333333333333,
              "#9c179e"
             ],
             [
              0.4444444444444444,
              "#bd3786"
             ],
             [
              0.5555555555555556,
              "#d8576b"
             ],
             [
              0.6666666666666666,
              "#ed7953"
             ],
             [
              0.7777777777777778,
              "#fb9f3a"
             ],
             [
              0.8888888888888888,
              "#fdca26"
             ],
             [
              1,
              "#f0f921"
             ]
            ],
            "type": "contour"
           }
          ],
          "contourcarpet": [
           {
            "colorbar": {
             "outlinewidth": 0,
             "ticks": ""
            },
            "type": "contourcarpet"
           }
          ],
          "heatmap": [
           {
            "colorbar": {
             "outlinewidth": 0,
             "ticks": ""
            },
            "colorscale": [
             [
              0,
              "#0d0887"
             ],
             [
              0.1111111111111111,
              "#46039f"
             ],
             [
              0.2222222222222222,
              "#7201a8"
             ],
             [
              0.3333333333333333,
              "#9c179e"
             ],
             [
              0.4444444444444444,
              "#bd3786"
             ],
             [
              0.5555555555555556,
              "#d8576b"
             ],
             [
              0.6666666666666666,
              "#ed7953"
             ],
             [
              0.7777777777777778,
              "#fb9f3a"
             ],
             [
              0.8888888888888888,
              "#fdca26"
             ],
             [
              1,
              "#f0f921"
             ]
            ],
            "type": "heatmap"
           }
          ],
          "histogram": [
           {
            "marker": {
             "pattern": {
              "fillmode": "overlay",
              "size": 10,
              "solidity": 0.2
             }
            },
            "type": "histogram"
           }
          ],
          "histogram2d": [
           {
            "colorbar": {
             "outlinewidth": 0,
             "ticks": ""
            },
            "colorscale": [
             [
              0,
              "#0d0887"
             ],
             [
              0.1111111111111111,
              "#46039f"
             ],
             [
              0.2222222222222222,
              "#7201a8"
             ],
             [
              0.3333333333333333,
              "#9c179e"
             ],
             [
              0.4444444444444444,
              "#bd3786"
             ],
             [
              0.5555555555555556,
              "#d8576b"
             ],
             [
              0.6666666666666666,
              "#ed7953"
             ],
             [
              0.7777777777777778,
              "#fb9f3a"
             ],
             [
              0.8888888888888888,
              "#fdca26"
             ],
             [
              1,
              "#f0f921"
             ]
            ],
            "type": "histogram2d"
           }
          ],
          "histogram2dcontour": [
           {
            "colorbar": {
             "outlinewidth": 0,
             "ticks": ""
            },
            "colorscale": [
             [
              0,
              "#0d0887"
             ],
             [
              0.1111111111111111,
              "#46039f"
             ],
             [
              0.2222222222222222,
              "#7201a8"
             ],
             [
              0.3333333333333333,
              "#9c179e"
             ],
             [
              0.4444444444444444,
              "#bd3786"
             ],
             [
              0.5555555555555556,
              "#d8576b"
             ],
             [
              0.6666666666666666,
              "#ed7953"
             ],
             [
              0.7777777777777778,
              "#fb9f3a"
             ],
             [
              0.8888888888888888,
              "#fdca26"
             ],
             [
              1,
              "#f0f921"
             ]
            ],
            "type": "histogram2dcontour"
           }
          ],
          "mesh3d": [
           {
            "colorbar": {
             "outlinewidth": 0,
             "ticks": ""
            },
            "type": "mesh3d"
           }
          ],
          "parcoords": [
           {
            "line": {
             "colorbar": {
              "outlinewidth": 0,
              "ticks": ""
             }
            },
            "type": "parcoords"
           }
          ],
          "pie": [
           {
            "automargin": true,
            "type": "pie"
           }
          ],
          "scatter": [
           {
            "fillpattern": {
             "fillmode": "overlay",
             "size": 10,
             "solidity": 0.2
            },
            "type": "scatter"
           }
          ],
          "scatter3d": [
           {
            "line": {
             "colorbar": {
              "outlinewidth": 0,
              "ticks": ""
             }
            },
            "marker": {
             "colorbar": {
              "outlinewidth": 0,
              "ticks": ""
             }
            },
            "type": "scatter3d"
           }
          ],
          "scattercarpet": [
           {
            "marker": {
             "colorbar": {
              "outlinewidth": 0,
              "ticks": ""
             }
            },
            "type": "scattercarpet"
           }
          ],
          "scattergeo": [
           {
            "marker": {
             "colorbar": {
              "outlinewidth": 0,
              "ticks": ""
             }
            },
            "type": "scattergeo"
           }
          ],
          "scattergl": [
           {
            "marker": {
             "colorbar": {
              "outlinewidth": 0,
              "ticks": ""
             }
            },
            "type": "scattergl"
           }
          ],
          "scattermap": [
           {
            "marker": {
             "colorbar": {
              "outlinewidth": 0,
              "ticks": ""
             }
            },
            "type": "scattermap"
           }
          ],
          "scattermapbox": [
           {
            "marker": {
             "colorbar": {
              "outlinewidth": 0,
              "ticks": ""
             }
            },
            "type": "scattermapbox"
           }
          ],
          "scatterpolar": [
           {
            "marker": {
             "colorbar": {
              "outlinewidth": 0,
              "ticks": ""
             }
            },
            "type": "scatterpolar"
           }
          ],
          "scatterpolargl": [
           {
            "marker": {
             "colorbar": {
              "outlinewidth": 0,
              "ticks": ""
             }
            },
            "type": "scatterpolargl"
           }
          ],
          "scatterternary": [
           {
            "marker": {
             "colorbar": {
              "outlinewidth": 0,
              "ticks": ""
             }
            },
            "type": "scatterternary"
           }
          ],
          "surface": [
           {
            "colorbar": {
             "outlinewidth": 0,
             "ticks": ""
            },
            "colorscale": [
             [
              0,
              "#0d0887"
             ],
             [
              0.1111111111111111,
              "#46039f"
             ],
             [
              0.2222222222222222,
              "#7201a8"
             ],
             [
              0.3333333333333333,
              "#9c179e"
             ],
             [
              0.4444444444444444,
              "#bd3786"
             ],
             [
              0.5555555555555556,
              "#d8576b"
             ],
             [
              0.6666666666666666,
              "#ed7953"
             ],
             [
              0.7777777777777778,
              "#fb9f3a"
             ],
             [
              0.8888888888888888,
              "#fdca26"
             ],
             [
              1,
              "#f0f921"
             ]
            ],
            "type": "surface"
           }
          ],
          "table": [
           {
            "cells": {
             "fill": {
              "color": "#EBF0F8"
             },
             "line": {
              "color": "white"
             }
            },
            "header": {
             "fill": {
              "color": "#C8D4E3"
             },
             "line": {
              "color": "white"
             }
            },
            "type": "table"
           }
          ]
         },
         "layout": {
          "annotationdefaults": {
           "arrowcolor": "#2a3f5f",
           "arrowhead": 0,
           "arrowwidth": 1
          },
          "autotypenumbers": "strict",
          "coloraxis": {
           "colorbar": {
            "outlinewidth": 0,
            "ticks": ""
           }
          },
          "colorscale": {
           "diverging": [
            [
             0,
             "#8e0152"
            ],
            [
             0.1,
             "#c51b7d"
            ],
            [
             0.2,
             "#de77ae"
            ],
            [
             0.3,
             "#f1b6da"
            ],
            [
             0.4,
             "#fde0ef"
            ],
            [
             0.5,
             "#f7f7f7"
            ],
            [
             0.6,
             "#e6f5d0"
            ],
            [
             0.7,
             "#b8e186"
            ],
            [
             0.8,
             "#7fbc41"
            ],
            [
             0.9,
             "#4d9221"
            ],
            [
             1,
             "#276419"
            ]
           ],
           "sequential": [
            [
             0,
             "#0d0887"
            ],
            [
             0.1111111111111111,
             "#46039f"
            ],
            [
             0.2222222222222222,
             "#7201a8"
            ],
            [
             0.3333333333333333,
             "#9c179e"
            ],
            [
             0.4444444444444444,
             "#bd3786"
            ],
            [
             0.5555555555555556,
             "#d8576b"
            ],
            [
             0.6666666666666666,
             "#ed7953"
            ],
            [
             0.7777777777777778,
             "#fb9f3a"
            ],
            [
             0.8888888888888888,
             "#fdca26"
            ],
            [
             1,
             "#f0f921"
            ]
           ],
           "sequentialminus": [
            [
             0,
             "#0d0887"
            ],
            [
             0.1111111111111111,
             "#46039f"
            ],
            [
             0.2222222222222222,
             "#7201a8"
            ],
            [
             0.3333333333333333,
             "#9c179e"
            ],
            [
             0.4444444444444444,
             "#bd3786"
            ],
            [
             0.5555555555555556,
             "#d8576b"
            ],
            [
             0.6666666666666666,
             "#ed7953"
            ],
            [
             0.7777777777777778,
             "#fb9f3a"
            ],
            [
             0.8888888888888888,
             "#fdca26"
            ],
            [
             1,
             "#f0f921"
            ]
           ]
          },
          "colorway": [
           "#636efa",
           "#EF553B",
           "#00cc96",
           "#ab63fa",
           "#FFA15A",
           "#19d3f3",
           "#FF6692",
           "#B6E880",
           "#FF97FF",
           "#FECB52"
          ],
          "font": {
           "color": "#2a3f5f"
          },
          "geo": {
           "bgcolor": "white",
           "lakecolor": "white",
           "landcolor": "#E5ECF6",
           "showlakes": true,
           "showland": true,
           "subunitcolor": "white"
          },
          "hoverlabel": {
           "align": "left"
          },
          "hovermode": "closest",
          "mapbox": {
           "style": "light"
          },
          "paper_bgcolor": "white",
          "plot_bgcolor": "#E5ECF6",
          "polar": {
           "angularaxis": {
            "gridcolor": "white",
            "linecolor": "white",
            "ticks": ""
           },
           "bgcolor": "#E5ECF6",
           "radialaxis": {
            "gridcolor": "white",
            "linecolor": "white",
            "ticks": ""
           }
          },
          "scene": {
           "xaxis": {
            "backgroundcolor": "#E5ECF6",
            "gridcolor": "white",
            "gridwidth": 2,
            "linecolor": "white",
            "showbackground": true,
            "ticks": "",
            "zerolinecolor": "white"
           },
           "yaxis": {
            "backgroundcolor": "#E5ECF6",
            "gridcolor": "white",
            "gridwidth": 2,
            "linecolor": "white",
            "showbackground": true,
            "ticks": "",
            "zerolinecolor": "white"
           },
           "zaxis": {
            "backgroundcolor": "#E5ECF6",
            "gridcolor": "white",
            "gridwidth": 2,
            "linecolor": "white",
            "showbackground": true,
            "ticks": "",
            "zerolinecolor": "white"
           }
          },
          "shapedefaults": {
           "line": {
            "color": "#2a3f5f"
           }
          },
          "ternary": {
           "aaxis": {
            "gridcolor": "white",
            "linecolor": "white",
            "ticks": ""
           },
           "baxis": {
            "gridcolor": "white",
            "linecolor": "white",
            "ticks": ""
           },
           "bgcolor": "#E5ECF6",
           "caxis": {
            "gridcolor": "white",
            "linecolor": "white",
            "ticks": ""
           }
          },
          "title": {
           "x": 0.05
          },
          "xaxis": {
           "automargin": true,
           "gridcolor": "white",
           "linecolor": "white",
           "ticks": "",
           "title": {
            "standoff": 15
           },
           "zerolinecolor": "white",
           "zerolinewidth": 2
          },
          "yaxis": {
           "automargin": true,
           "gridcolor": "white",
           "linecolor": "white",
           "ticks": "",
           "title": {
            "standoff": 15
           },
           "zerolinecolor": "white",
           "zerolinewidth": 2
          }
         }
        },
        "title": {
         "text": "High-Materiality (≥80) Asset Locations by Company"
        }
       }
      }
     },
     "metadata": {},
     "output_type": "display_data"
    }
   ],
   "source": [
    "# ────────────────────────────────────────────────────────────────\n",
    "# Plot all assets with a high materiality score for both companies\n",
    "# ────────────────────────────────────────────────────────────────\n",
    "\n",
    "# Materiality threshold for plotting\n",
    "threshold = 80\n",
    "\n",
    "map_df = (\n",
    "    pl.concat(\n",
    "        [\n",
    "            company_full_pl.with_columns(pl.lit(company_name).alias('company')),\n",
    "            competitor_full_pl.with_columns(pl.lit(competitor_name).alias('company')),\n",
    "        ]\n",
    "    )\n",
    "    .filter(pl.col('materiality_score') >= threshold)\n",
    "    .select(['latitude', 'longitude', 'asset_type', 'materiality_score', 'company'])\n",
    "    .to_pandas()\n",
    ")\n",
    "\n",
    "fig = px.scatter_geo(\n",
    "    map_df,\n",
    "    lat='latitude',\n",
    "    lon='longitude',\n",
    "    color='asset_type',\n",
    "    size='materiality_score',\n",
    "    size_max=10,\n",
    "    facet_col='company',\n",
    "    projection='natural earth',\n",
    "    title=f'High-Materiality (≥{threshold}) Asset Locations by Company',\n",
    "    custom_data=['asset_type', 'company', 'materiality_score'],\n",
    ")\n",
    "\n",
    "fig.update_traces(\n",
    "    hovertemplate=(\n",
    "        'Asset Type: %{customdata[0]}<br>'\n",
    "        'Company: %{customdata[1]}<br>'\n",
    "        'Materiality Score: %{customdata[2]:.0f}'\n",
    "        '<extra></extra>'\n",
    "    )\n",
    ")\n",
    "\n",
    "fig.update_geos(\n",
    "    showland=True,\n",
    "    landcolor='LightGray',\n",
    "    showocean=True,\n",
    "    oceancolor='LightBlue',\n",
    "    showcountries=True,\n",
    "    countrycolor='White',\n",
    ")\n",
    "fig.update_layout(margin={'r': 0, 't': 50, 'l': 20, 'b': 0})\n",
    "\n",
    "fig.show()"
   ]
  },
  {
   "cell_type": "markdown",
   "metadata": {},
   "source": [
    "## 4. Asset-level aggregate risk comparison"
   ]
  },
  {
   "cell_type": "code",
   "execution_count": null,
   "metadata": {},
   "outputs": [
    {
     "name": "stderr",
     "output_type": "stream",
     "text": [
      "/Users/shamthanekar/miniforge3/envs/cdtenv/lib/python3.11/site-packages/seaborn/_oldcore.py:1119: FutureWarning:\n",
      "\n",
      "use_inf_as_na option is deprecated and will be removed in a future version. Convert inf values to NaN before operating instead.\n",
      "\n",
      "/Users/shamthanekar/miniforge3/envs/cdtenv/lib/python3.11/site-packages/seaborn/_oldcore.py:1119: FutureWarning:\n",
      "\n",
      "use_inf_as_na option is deprecated and will be removed in a future version. Convert inf values to NaN before operating instead.\n",
      "\n"
     ]
    },
    {
     "data": {
      "image/png": "[encoded data removed]",
      "text/plain": [
       "<Figure size 800x600 with 1 Axes>"
      ]
     },
     "metadata": {},
     "output_type": "display_data"
    }
   ],
   "source": [
    "# ────────────────────────────────────────────────────\n",
    "# Plot aggregated metric statistics for both companies\n",
    "# ────────────────────────────────────────────────────\n",
    "\n",
    "metric_selected = METRIC[0]\n",
    "bins = 30\n",
    "\n",
    "company_series = company_full_pl.select(metric_selected).to_pandas()[metric_selected]\n",
    "competitor_series = competitor_full_pl.select(metric_selected).to_pandas()[\n",
    "    metric_selected\n",
    "]\n",
    "\n",
    "plt.figure(figsize=(8, 6))\n",
    "\n",
    "# Company histogram\n",
    "sns.histplot(\n",
    "    company_series,\n",
    "    bins=bins,\n",
    "    element='step',\n",
    "    fill=True,\n",
    "    alpha=0.2,\n",
    "    linewidth=1.5,\n",
    "    color=color_map[company_name],\n",
    "    label=company_name,\n",
    ")\n",
    "\n",
    "# Competitor histogram\n",
    "sns.histplot(\n",
    "    competitor_series,\n",
    "    bins=bins,\n",
    "    element='step',\n",
    "    fill=True,\n",
    "    alpha=0.2,\n",
    "    linewidth=1.5,\n",
    "    color=color_map[competitor_name],\n",
    "    label=competitor_name,\n",
    ")\n",
    "\n",
    "plt.title(f'{metric_selected.replace(\"_\", \" \").title()} by Company')\n",
    "plt.xlabel(metric_selected.replace('_', ' ').title())\n",
    "plt.ylabel('Count')\n",
    "plt.legend()\n",
    "plt.tight_layout()\n",
    "plt.show()"
   ]
  },
  {
   "cell_type": "markdown",
   "metadata": {},
   "source": [
    "## 5. Country level risk"
   ]
  },
  {
   "cell_type": "code",
   "execution_count": null,
   "metadata": {},
   "outputs": [
    {
     "data": {
      "image/png": "[encoded data removed]",
      "text/plain": [
       "<Figure size 1200x600 with 1 Axes>"
      ]
     },
     "metadata": {},
     "output_type": "display_data"
    }
   ],
   "source": [
    "# ─────────────────────────────────────────────────────────────────────────────────\n",
    "# Plot country-level risk for each company based on the chosen aggregate metric.\n",
    "# The plotted value is the country-level risk relative to the highest value of\n",
    "# country-level risk for the base company.\n",
    "# The highest value of Relative Country Risk for the base company will always be 1.\n",
    "# ─────────────────────────────────────────────────────────────────────────────────\n",
    "\n",
    "base_risk_pd = company_country_risk.to_pandas()\n",
    "competitor_risk_pd = competitor_country_risk.to_pandas()\n",
    "max_base_risk = base_risk_pd['country_risk'].max()\n",
    "\n",
    "risk_df = pd.concat([base_risk_pd, competitor_risk_pd], ignore_index=True)\n",
    "risk_df['relative_risk'] = risk_df['country_risk'] / max_base_risk\n",
    "\n",
    "risk_df = risk_df[risk_df['country'].isin(risk_top25)]\n",
    "\n",
    "plt.figure(figsize=(12, 6))\n",
    "sns.barplot(\n",
    "    data=risk_df, x='country', y='relative_risk', hue='company', palette=color_map\n",
    ")\n",
    "plt.xticks(rotation=90)\n",
    "plt.ylabel('Relative Country Risk')\n",
    "plt.xlabel('Country')\n",
    "plt.title('Country-Level Risk (Normalized)')\n",
    "plt.legend(title='')\n",
    "plt.tight_layout()\n",
    "plt.show()"
   ]
  },
  {
   "cell_type": "markdown",
   "metadata": {},
   "source": [
    "## 6. Hazard Analysis"
   ]
  },
  {
   "cell_type": "code",
   "execution_count": null,
   "metadata": {},
   "outputs": [
    {
     "data": {
      "application/vnd.plotly.v1+json": {
       "config": {
        "plotlyServerURL": "https://plot.ly"
       },
       "data": [
        {
         "customdata": [
          [
           0.004674081224948168,
           "hot_days",
           0.007512922864407301
          ],
          [
           0.03831107169389725,
           "hot_days",
           0.05078465864062309
          ],
          [
           0.009869952686131,
           "hot_days",
           0.012590330094099045
          ],
          [
           0.010117818601429462,
           "hot_days",
           0.01294745970517397
          ],
          [
           0.004327537026256323,
           "hot_days",
           0.005892452783882618
          ],
          [
           0.009869952686131,
           "hot_days",
           0.012590330094099045
          ],
          [
           0.006488454528152943,
           "hot_days",
           0.008188165724277496
          ],
          [
           0.010555657558143139,
           "hot_days",
           0.0146174356341362
          ],
          [
           0.010555657558143139,
           "hot_days",
           0.0146174356341362
          ],
          [
           0.008307407610118389,
           "hot_days",
           0.011728259734809399
          ]
         ],
         "geo": "geo",
         "hovertemplate": "Expected Impact: %{customdata[0]:.2f}<br>Top Hazard: %{customdata[1]}<br>Index Impact Cvar 95: %{customdata[2]:.2f}<extra></extra>",
         "lat": {
          "bdata": "hFzz9Fs7SkCVAbG2cwsJwBpWTABZhz5AO4mtRbBfREAzzL9MyspEQIEBKVaylj5ARdWvdD6tR0CKV1nbFNJEQNXnaiv20URAoYkLm1x1RUA=",
          "dtype": "f8"
         },
         "legendgroup": "hot_days, Procter & Gamble",
         "lon": {
          "bdata": "dlH0wMfQKkDGjiFb8fpNwM5AG29hllxA+LiA4SYCVcBYKfNFMS8CQIljuJU5llxAIbE497I4FECUUiunmONWwPexgt8G4FbAS7xNyYNkVcA=",
          "dtype": "f8"
         },
         "marker": {
          "color": "#636efa",
          "size": {
           "bdata": "AAAAICElcz8AAABAgp2jPwAAAKCyNoQ/AAAAoKa4hD8AAABgwLlxPwAAAKCyNoQ/AAAAQKOTej8AAABgNJ6FPwAAAGA0noU/AAAAYHkDgT8=",
           "dtype": "f8"
          },
          "sizemode": "area",
          "sizeref": 0.0014293946325778962,
          "symbol": "circle"
         },
         "mode": "markers",
         "name": "hot_days, Procter & Gamble",
         "showlegend": true,
         "type": "scattergeo"
        },
        {
         "customdata": [
          [
           0.5717578530311584,
           "rflood_rp50",
           0.5050072073936462
          ],
          [
           0.4515864849090576,
           "rflood_rp50",
           0.4378425180912018
          ],
          [
           0.44428473711013794,
           "rflood_rp50",
           0.38527607917785645
          ],
          [
           0.512104868888855,
           "rflood_rp50",
           0.4908227026462555
          ],
          [
           0.4687751233577728,
           "rflood_rp50",
           0.4579615294933319
          ],
          [
           0.1081099733710289,
           "rflood_rp50",
           0.1102122962474823
          ],
          [
           0.11466454714536667,
           "rflood_rp50",
           0.1228824332356453
          ],
          [
           0.1699659526348114,
           "rflood_rp50",
           0.14480984210968018
          ]
         ],
         "geo": "geo",
         "hovertemplate": "Expected Impact: %{customdata[0]:.2f}<br>Top Hazard: %{customdata[1]}<br>Index Impact Cvar 95: %{customdata[2]:.2f}<extra></extra>",
         "lat": {
          "bdata": "bGv6ovMoJEDEeM2rOotDQN9OxwhNETdAzbugdNi2QED/1T54SENDQH3yZsNQLStAEigHWFCWQ0CtegrKfslEQA==",
          "dtype": "f8"
         },
         "legendgroup": "rflood_rp50, Procter & Gamble",
         "lon": {
          "bdata": "WJcJdccUU0B175cFyalXwIFz69qDYVxA2gRzT7IIXMD9116wwFlewMajVMITPFlAB1uRPecfVcB0QX3LnAJTwA==",
          "dtype": "f8"
         },
         "marker": {
          "color": "#EF553B",
          "size": {
           "bdata": "AAAAINdL4j8AAAAAy+bcPwAAAEApb9w/AAAAwClj4D8AAABgaQDePwAAAGAYrbs/AAAA4KdavT8AAADAccHFPw==",
           "dtype": "f8"
          },
          "sizemode": "area",
          "sizeref": 0.0014293946325778962,
          "symbol": "circle"
         },
         "mode": "markers",
         "name": "rflood_rp50, Procter & Gamble",
         "showlegend": true,
         "type": "scattergeo"
        },
        {
         "customdata": [
          [
           0.11420165002346039,
           "cyclone",
           0.30094489455223083
          ],
          [
           0.017734892666339874,
           "cyclone",
           0.06112563610076904
          ],
          [
           0.12334632128477097,
           "cyclone",
           0.3333613872528076
          ],
          [
           0.028375428169965744,
           "cyclone",
           0.11245410144329071
          ],
          [
           0.09360343217849731,
           "cyclone",
           0.25635433197021484
          ],
          [
           0.16897770762443542,
           "cyclone",
           0.17658883333206177
          ],
          [
           0.017751721665263176,
           "cyclone",
           0.06140899658203125
          ],
          [
           0.2218799889087677,
           "cyclone",
           0.2658899426460266
          ],
          [
           0.10126405954360962,
           "cyclone",
           0.27425676584243774
          ]
         ],
         "geo": "geo",
         "hovertemplate": "Expected Impact: %{customdata[0]:.2f}<br>Top Hazard: %{customdata[1]}<br>Index Impact Cvar 95: %{customdata[2]:.2f}<extra></extra>",
         "lat": {
          "bdata": "vVErTN9NRUCPj3EgfwlCQKkQNAtZvkNABey0f6+6QUDBs/PsqL1DQAG9cOfCGkFA1UytrY4WQkCZ02UxsXFEQH4FxH8Vk0NA",
          "dtype": "f8"
         },
         "legendgroup": "cyclone, Procter & Gamble",
         "lon": {
          "bdata": "thVWheHKUcDkJUkhWvpTwE3jzdCuKVPApoS7DjDHU8DerwJ8Nw5TwLezrzzIyF3AxAIEGDvuU8C8AtGTMn9SwLQLvElC41LA",
          "dtype": "f8"
         },
         "marker": {
          "color": "#00cc96",
          "size": {
           "bdata": "AAAAwFE8vT8AAACAGCmSPwAAAOCfk78/AAAAwHIOnT8AAAAAZfa3PwAAAMAPocU/AAAA4IEtkj8AAABAkGbMPwAAAABx7Lk/",
           "dtype": "f8"
          },
          "sizemode": "area",
          "sizeref": 0.0014293946325778962,
          "symbol": "circle"
         },
         "mode": "markers",
         "name": "cyclone, Procter & Gamble",
         "showlegend": true,
         "type": "scattergeo"
        },
        {
         "customdata": [
          [
           0.006120095960795879,
           "dlyfrzthw",
           0.01421668753027916
          ]
         ],
         "geo": "geo",
         "hovertemplate": "Expected Impact: %{customdata[0]:.2f}<br>Top Hazard: %{customdata[1]}<br>Index Impact Cvar 95: %{customdata[2]:.2f}<extra></extra>",
         "lat": {
          "bdata": "iYhRxq7uSEA=",
          "dtype": "f8"
         },
         "legendgroup": "dlyfrzthw, Procter & Gamble",
         "lon": {
          "bdata": "8kgX9g9FIUA=",
          "dtype": "f8"
         },
         "marker": {
          "color": "#ab63fa",
          "size": {
           "bdata": "AAAAwGIReT8=",
           "dtype": "f8"
          },
          "sizemode": "area",
          "sizeref": 0.0014293946325778962,
          "symbol": "circle"
         },
         "mode": "markers",
         "name": "dlyfrzthw, Procter & Gamble",
         "showlegend": true,
         "type": "scattergeo"
        },
        {
         "customdata": [
          [
           0.02257656864821911,
           "frost_days",
           0.04896288365125656
          ]
         ],
         "geo": "geo",
         "hovertemplate": "Expected Impact: %{customdata[0]:.2f}<br>Top Hazard: %{customdata[1]}<br>Index Impact Cvar 95: %{customdata[2]:.2f}<extra></extra>",
         "lat": {
          "bdata": "z/ta8tPxPkA=",
          "dtype": "f8"
         },
         "legendgroup": "frost_days, Procter & Gamble",
         "lon": {
          "bdata": "lCLoHsg0U0A=",
          "dtype": "f8"
         },
         "marker": {
          "color": "#FFA15A",
          "size": {
           "bdata": "AAAA4E8elz8=",
           "dtype": "f8"
          },
          "sizemode": "area",
          "sizeref": 0.0014293946325778962,
          "symbol": "circle"
         },
         "mode": "markers",
         "name": "frost_days, Procter & Gamble",
         "showlegend": true,
         "type": "scattergeo"
        }
       ],
       "layout": {
        "geo": {
         "center": {},
         "countrycolor": "White",
         "domain": {
          "x": [
           0,
           1
          ],
          "y": [
           0,
           1
          ]
         },
         "landcolor": "LightGray",
         "projection": {
          "type": "natural earth"
         },
         "showcountries": true,
         "showland": true
        },
        "legend": {
         "itemsizing": "constant",
         "title": {
          "text": "Hazard Type"
         },
         "tracegroupgap": 0
        },
        "margin": {
         "b": 0,
         "l": 0,
         "r": 0,
         "t": 40
        },
        "template": {
         "data": {
          "bar": [
           {
            "error_x": {
             "color": "#2a3f5f"
            },
            "error_y": {
             "color": "#2a3f5f"
            },
            "marker": {
             "line": {
              "color": "#E5ECF6",
              "width": 0.5
             },
             "pattern": {
              "fillmode": "overlay",
              "size": 10,
              "solidity": 0.2
             }
            },
            "type": "bar"
           }
          ],
          "barpolar": [
           {
            "marker": {
             "line": {
              "color": "#E5ECF6",
              "width": 0.5
             },
             "pattern": {
              "fillmode": "overlay",
              "size": 10,
              "solidity": 0.2
             }
            },
            "type": "barpolar"
           }
          ],
          "carpet": [
           {
            "aaxis": {
             "endlinecolor": "#2a3f5f",
             "gridcolor": "white",
             "linecolor": "white",
             "minorgridcolor": "white",
             "startlinecolor": "#2a3f5f"
            },
            "baxis": {
             "endlinecolor": "#2a3f5f",
             "gridcolor": "white",
             "linecolor": "white",
             "minorgridcolor": "white",
             "startlinecolor": "#2a3f5f"
            },
            "type": "carpet"
           }
          ],
          "choropleth": [
           {
            "colorbar": {
             "outlinewidth": 0,
             "ticks": ""
            },
            "type": "choropleth"
           }
          ],
          "contour": [
           {
            "colorbar": {
             "outlinewidth": 0,
             "ticks": ""
            },
            "colorscale": [
             [
              0,
              "#0d0887"
             ],
             [
              0.1111111111111111,
              "#46039f"
             ],
             [
              0.2222222222222222,
              "#7201a8"
             ],
             [
              0.3333333333333333,
              "#9c179e"
             ],
             [
              0.4444444444444444,
              "#bd3786"
             ],
             [
              0.5555555555555556,
              "#d8576b"
             ],
             [
              0.6666666666666666,
              "#ed7953"
             ],
             [
              0.7777777777777778,
              "#fb9f3a"
             ],
             [
              0.8888888888888888,
              "#fdca26"
             ],
             [
              1,
              "#f0f921"
             ]
            ],
            "type": "contour"
           }
          ],
          "contourcarpet": [
           {
            "colorbar": {
             "outlinewidth": 0,
             "ticks": ""
            },
            "type": "contourcarpet"
           }
          ],
          "heatmap": [
           {
            "colorbar": {
             "outlinewidth": 0,
             "ticks": ""
            },
            "colorscale": [
             [
              0,
              "#0d0887"
             ],
             [
              0.1111111111111111,
              "#46039f"
             ],
             [
              0.2222222222222222,
              "#7201a8"
             ],
             [
              0.3333333333333333,
              "#9c179e"
             ],
             [
              0.4444444444444444,
              "#bd3786"
             ],
             [
              0.5555555555555556,
              "#d8576b"
             ],
             [
              0.6666666666666666,
              "#ed7953"
             ],
             [
              0.7777777777777778,
              "#fb9f3a"
             ],
             [
              0.8888888888888888,
              "#fdca26"
             ],
             [
              1,
              "#f0f921"
             ]
            ],
            "type": "heatmap"
           }
          ],
          "histogram": [
           {
            "marker": {
             "pattern": {
              "fillmode": "overlay",
              "size": 10,
              "solidity": 0.2
             }
            },
            "type": "histogram"
           }
          ],
          "histogram2d": [
           {
            "colorbar": {
             "outlinewidth": 0,
             "ticks": ""
            },
            "colorscale": [
             [
              0,
              "#0d0887"
             ],
             [
              0.1111111111111111,
              "#46039f"
             ],
             [
              0.2222222222222222,
              "#7201a8"
             ],
             [
              0.3333333333333333,
              "#9c179e"
             ],
             [
              0.4444444444444444,
              "#bd3786"
             ],
             [
              0.5555555555555556,
              "#d8576b"
             ],
             [
              0.6666666666666666,
              "#ed7953"
             ],
             [
              0.7777777777777778,
              "#fb9f3a"
             ],
             [
              0.8888888888888888,
              "#fdca26"
             ],
             [
              1,
              "#f0f921"
             ]
            ],
            "type": "histogram2d"
           }
          ],
          "histogram2dcontour": [
           {
            "colorbar": {
             "outlinewidth": 0,
             "ticks": ""
            },
            "colorscale": [
             [
              0,
              "#0d0887"
             ],
             [
              0.1111111111111111,
              "#46039f"
             ],
             [
              0.2222222222222222,
              "#7201a8"
             ],
             [
              0.3333333333333333,
              "#9c179e"
             ],
             [
              0.4444444444444444,
              "#bd3786"
             ],
             [
              0.5555555555555556,
              "#d8576b"
             ],
             [
              0.6666666666666666,
              "#ed7953"
             ],
             [
              0.7777777777777778,
              "#fb9f3a"
             ],
             [
              0.8888888888888888,
              "#fdca26"
             ],
             [
              1,
              "#f0f921"
             ]
            ],
            "type": "histogram2dcontour"
           }
          ],
          "mesh3d": [
           {
            "colorbar": {
             "outlinewidth": 0,
             "ticks": ""
            },
            "type": "mesh3d"
           }
          ],
          "parcoords": [
           {
            "line": {
             "colorbar": {
              "outlinewidth": 0,
              "ticks": ""
             }
            },
            "type": "parcoords"
           }
          ],
          "pie": [
           {
            "automargin": true,
            "type": "pie"
           }
          ],
          "scatter": [
           {
            "fillpattern": {
             "fillmode": "overlay",
             "size": 10,
             "solidity": 0.2
            },
            "type": "scatter"
           }
          ],
          "scatter3d": [
           {
            "line": {
             "colorbar": {
              "outlinewidth": 0,
              "ticks": ""
             }
            },
            "marker": {
             "colorbar": {
              "outlinewidth": 0,
              "ticks": ""
             }
            },
            "type": "scatter3d"
           }
          ],
          "scattercarpet": [
           {
            "marker": {
             "colorbar": {
              "outlinewidth": 0,
              "ticks": ""
             }
            },
            "type": "scattercarpet"
           }
          ],
          "scattergeo": [
           {
            "marker": {
             "colorbar": {
              "outlinewidth": 0,
              "ticks": ""
             }
            },
            "type": "scattergeo"
           }
          ],
          "scattergl": [
           {
            "marker": {
             "colorbar": {
              "outlinewidth": 0,
              "ticks": ""
             }
            },
            "type": "scattergl"
           }
          ],
          "scattermap": [
           {
            "marker": {
             "colorbar": {
              "outlinewidth": 0,
              "ticks": ""
             }
            },
            "type": "scattermap"
           }
          ],
          "scattermapbox": [
           {
            "marker": {
             "colorbar": {
              "outlinewidth": 0,
              "ticks": ""
             }
            },
            "type": "scattermapbox"
           }
          ],
          "scatterpolar": [
           {
            "marker": {
             "colorbar": {
              "outlinewidth": 0,
              "ticks": ""
             }
            },
            "type": "scatterpolar"
           }
          ],
          "scatterpolargl": [
           {
            "marker": {
             "colorbar": {
              "outlinewidth": 0,
              "ticks": ""
             }
            },
            "type": "scatterpolargl"
           }
          ],
          "scatterternary": [
           {
            "marker": {
             "colorbar": {
              "outlinewidth": 0,
              "ticks": ""
             }
            },
            "type": "scatterternary"
           }
          ],
          "surface": [
           {
            "colorbar": {
             "outlinewidth": 0,
             "ticks": ""
            },
            "colorscale": [
             [
              0,
              "#0d0887"
             ],
             [
              0.1111111111111111,
              "#46039f"
             ],
             [
              0.2222222222222222,
              "#7201a8"
             ],
             [
              0.3333333333333333,
              "#9c179e"
             ],
             [
              0.4444444444444444,
              "#bd3786"
             ],
             [
              0.5555555555555556,
              "#d8576b"
             ],
             [
              0.6666666666666666,
              "#ed7953"
             ],
             [
              0.7777777777777778,
              "#fb9f3a"
             ],
             [
              0.8888888888888888,
              "#fdca26"
             ],
             [
              1,
              "#f0f921"
             ]
            ],
            "type": "surface"
           }
          ],
          "table": [
           {
            "cells": {
             "fill": {
              "color": "#EBF0F8"
             },
             "line": {
              "color": "white"
             }
            },
            "header": {
             "fill": {
              "color": "#C8D4E3"
             },
             "line": {
              "color": "white"
             }
            },
            "type": "table"
           }
          ]
         },
         "layout": {
          "annotationdefaults": {
           "arrowcolor": "#2a3f5f",
           "arrowhead": 0,
           "arrowwidth": 1
          },
          "autotypenumbers": "strict",
          "coloraxis": {
           "colorbar": {
            "outlinewidth": 0,
            "ticks": ""
           }
          },
          "colorscale": {
           "diverging": [
            [
             0,
             "#8e0152"
            ],
            [
             0.1,
             "#c51b7d"
            ],
            [
             0.2,
             "#de77ae"
            ],
            [
             0.3,
             "#f1b6da"
            ],
            [
             0.4,
             "#fde0ef"
            ],
            [
             0.5,
             "#f7f7f7"
            ],
            [
             0.6,
             "#e6f5d0"
            ],
            [
             0.7,
             "#b8e186"
            ],
            [
             0.8,
             "#7fbc41"
            ],
            [
             0.9,
             "#4d9221"
            ],
            [
             1,
             "#276419"
            ]
           ],
           "sequential": [
            [
             0,
             "#0d0887"
            ],
            [
             0.1111111111111111,
             "#46039f"
            ],
            [
             0.2222222222222222,
             "#7201a8"
            ],
            [
             0.3333333333333333,
             "#9c179e"
            ],
            [
             0.4444444444444444,
             "#bd3786"
            ],
            [
             0.5555555555555556,
             "#d8576b"
            ],
            [
             0.6666666666666666,
             "#ed7953"
            ],
            [
             0.7777777777777778,
             "#fb9f3a"
            ],
            [
             0.8888888888888888,
             "#fdca26"
            ],
            [
             1,
             "#f0f921"
            ]
           ],
           "sequentialminus": [
            [
             0,
             "#0d0887"
            ],
            [
             0.1111111111111111,
             "#46039f"
            ],
            [
             0.2222222222222222,
             "#7201a8"
            ],
            [
             0.3333333333333333,
             "#9c179e"
            ],
            [
             0.4444444444444444,
             "#bd3786"
            ],
            [
             0.5555555555555556,
             "#d8576b"
            ],
            [
             0.6666666666666666,
             "#ed7953"
            ],
            [
             0.7777777777777778,
             "#fb9f3a"
            ],
            [
             0.8888888888888888,
             "#fdca26"
            ],
            [
             1,
             "#f0f921"
            ]
           ]
          },
          "colorway": [
           "#636efa",
           "#EF553B",
           "#00cc96",
           "#ab63fa",
           "#FFA15A",
           "#19d3f3",
           "#FF6692",
           "#B6E880",
           "#FF97FF",
           "#FECB52"
          ],
          "font": {
           "color": "#2a3f5f"
          },
          "geo": {
           "bgcolor": "white",
           "lakecolor": "white",
           "landcolor": "#E5ECF6",
           "showlakes": true,
           "showland": true,
           "subunitcolor": "white"
          },
          "hoverlabel": {
           "align": "left"
          },
          "hovermode": "closest",
          "mapbox": {
           "style": "light"
          },
          "paper_bgcolor": "white",
          "plot_bgcolor": "#E5ECF6",
          "polar": {
           "angularaxis": {
            "gridcolor": "white",
            "linecolor": "white",
            "ticks": ""
           },
           "bgcolor": "#E5ECF6",
           "radialaxis": {
            "gridcolor": "white",
            "linecolor": "white",
            "ticks": ""
           }
          },
          "scene": {
           "xaxis": {
            "backgroundcolor": "#E5ECF6",
            "gridcolor": "white",
            "gridwidth": 2,
            "linecolor": "white",
            "showbackground": true,
            "ticks": "",
            "zerolinecolor": "white"
           },
           "yaxis": {
            "backgroundcolor": "#E5ECF6",
            "gridcolor": "white",
            "gridwidth": 2,
            "linecolor": "white",
            "showbackground": true,
            "ticks": "",
            "zerolinecolor": "white"
           },
           "zaxis": {
            "backgroundcolor": "#E5ECF6",
            "gridcolor": "white",
            "gridwidth": 2,
            "linecolor": "white",
            "showbackground": true,
            "ticks": "",
            "zerolinecolor": "white"
           }
          },
          "shapedefaults": {
           "line": {
            "color": "#2a3f5f"
           }
          },
          "ternary": {
           "aaxis": {
            "gridcolor": "white",
            "linecolor": "white",
            "ticks": ""
           },
           "baxis": {
            "gridcolor": "white",
            "linecolor": "white",
            "ticks": ""
           },
           "bgcolor": "#E5ECF6",
           "caxis": {
            "gridcolor": "white",
            "linecolor": "white",
            "ticks": ""
           }
          },
          "title": {
           "x": 0.05
          },
          "xaxis": {
           "automargin": true,
           "gridcolor": "white",
           "linecolor": "white",
           "ticks": "",
           "title": {
            "standoff": 15
           },
           "zerolinecolor": "white",
           "zerolinewidth": 2
          },
          "yaxis": {
           "automargin": true,
           "gridcolor": "white",
           "linecolor": "white",
           "ticks": "",
           "title": {
            "standoff": 15
           },
           "zerolinecolor": "white",
           "zerolinewidth": 2
          }
         }
        },
        "title": {
         "text": "High-Materiality Assets by Top Hazard Metric and Size"
        }
       }
      }
     },
     "metadata": {},
     "output_type": "display_data"
    }
   ],
   "source": [
    "# ─────────────────────────────────────────────────────────────────────────────────────────────────────────────\n",
    "# Plots base company assets with a high materiality score with additional hazard information.\n",
    "# Marker size indicates level of aggregate risk.\n",
    "# Marker colour indicates hazard type with the highest contribution to the chosen hazard_metric for that asset.\n",
    "# ──────────────────────────────────────────────────────────────────────────────────────────────────────────────\n",
    "\n",
    "# Asset-level aggregate metric selected earlier in the notebook\n",
    "asset_metric = METRIC[0]\n",
    "\n",
    "# Hazard-specific metric choices (columns starting with \"index_impact_\"):\n",
    "hazard_metric_choices = [\n",
    "    c for c in company_impact_pl.columns if c.startswith('index_impact_')\n",
    "]\n",
    "\n",
    "# Default hazard-specific metric. Change this to highlight desired metric.\n",
    "hazard_metric = 'index_impact_cvar_95'\n",
    "\n",
    "# Materiality threshold for highlighting.\n",
    "# Change this to highlight assets above a defined materiality threshold.\n",
    "materiality_threshold = 50\n",
    "\n",
    "# Determine top hazard per asset based on the chosen hazard-specific metric\n",
    "impact_max = (\n",
    "    company_impact_pl.lazy()\n",
    "    .sort(hazard_metric, descending=True)\n",
    "    .group_by('asset_id')\n",
    "    .agg(\n",
    "        [\n",
    "            pl.first('index_name').alias('top_index_name'),\n",
    "            pl.first(hazard_metric).alias('top_hazard_value'),\n",
    "        ]\n",
    "    )\n",
    "    .collect()\n",
    ")\n",
    "\n",
    "map_df = (\n",
    "    company_full_pl.join(impact_max, on='asset_id', how='inner')\n",
    "    .filter(pl.col('materiality_score') >= materiality_threshold)\n",
    "    .select(\n",
    "        [\n",
    "            'latitude',\n",
    "            'longitude',\n",
    "            asset_metric,\n",
    "            'top_index_name',\n",
    "            'top_hazard_value',\n",
    "            'company',\n",
    "        ]\n",
    "    )\n",
    "    .to_pandas()\n",
    ")\n",
    "\n",
    "fig = px.scatter_geo(\n",
    "    map_df,\n",
    "    lat='latitude',\n",
    "    lon='longitude',\n",
    "    color='top_index_name',\n",
    "    size=asset_metric,\n",
    "    symbol='company',\n",
    "    projection='natural earth',\n",
    "    title='High-Materiality Assets by Top Hazard Metric and Size',\n",
    "    # pass exactly the fields we want into customdata\n",
    "    custom_data=[asset_metric, 'top_index_name', 'top_hazard_value'],\n",
    ")\n",
    "\n",
    "# Build a hovertemplate: no lon/lat, just our three items\n",
    "fig.update_traces(\n",
    "    hovertemplate=(\n",
    "        f'{asset_metric.replace(\"_\", \" \").title()}: %{{customdata[0]:.2f}}<br>'\n",
    "        'Top Hazard: %{customdata[1]}<br>'\n",
    "        f'{hazard_metric.replace(\"_\", \" \").title()}: %{{customdata[2]:.2f}}'\n",
    "        '<extra></extra>'\n",
    "    )\n",
    ")\n",
    "\n",
    "fig.update_geos(\n",
    "    showland=True, landcolor='LightGray', showcountries=True, countrycolor='White'\n",
    ")\n",
    "fig.update_layout(\n",
    "    legend_title_text='Hazard Type', margin={'l': 0, 'r': 0, 't': 40, 'b': 0}\n",
    ")\n",
    "fig.show()"
   ]
  },
  {
   "cell_type": "code",
   "execution_count": null,
   "metadata": {},
   "outputs": [],
   "source": []
  }
 ],
 "metadata": {
  "kernelspec": {
   "display_name": "cdtenv",
   "language": "python",
   "name": "python3"
  },
  "language_info": {
   "codemirror_mode": {
    "name": "ipython",
    "version": 3
   },
   "file_extension": ".py",
   "mimetype": "text/x-python",
   "name": "python",
   "nbconvert_exporter": "python",
   "pygments_lexer": "ipython3",
   "version": "3.11.11"
  }
 },
 "nbformat": 4,
 "nbformat_minor": 2
}
